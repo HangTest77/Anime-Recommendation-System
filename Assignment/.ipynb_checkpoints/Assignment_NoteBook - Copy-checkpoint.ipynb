{
 "cells": [
  {
   "cell_type": "markdown",
   "id": "341d14d6",
   "metadata": {},
   "source": [
    "# Import the necessary library "
   ]
  },
  {
   "cell_type": "code",
   "execution_count": 1,
   "id": "b8435e84",
   "metadata": {},
   "outputs": [],
   "source": [
    "import numpy as np # linear algebra\n",
    "import pandas as pd # data processing\n",
    "\n",
    "# Main library for static graphs\n",
    "import matplotlib.pyplot as plt  \n",
    "%matplotlib inline\n",
    "\n",
    "# Second Main library for static graphs \n",
    "import seaborn as sns # graphs "
   ]
  },
  {
   "cell_type": "markdown",
   "id": "7fb68e9b",
   "metadata": {},
   "source": [
    "-----------------------------------------------------------------------"
   ]
  },
  {
   "cell_type": "markdown",
   "id": "499a3328",
   "metadata": {},
   "source": [
    "# Content-Based Filtering "
   ]
  },
  {
   "cell_type": "code",
   "execution_count": 2,
   "id": "2469e85d",
   "metadata": {},
   "outputs": [],
   "source": [
    "import os"
   ]
  },
  {
   "cell_type": "code",
   "execution_count": 3,
   "id": "214ea746",
   "metadata": {},
   "outputs": [],
   "source": [
    "anime =  pd.read_csv('anime_poster.csv')\n",
    "synopsis = pd.read_csv('anime_with_synopsis.csv') \n",
    "onebyone = pd.read_csv('anime_each.csv') "
   ]
  },
  {
   "cell_type": "code",
   "execution_count": 4,
   "id": "e59400c3",
   "metadata": {},
   "outputs": [],
   "source": [
    "anime = anime.merge(synopsis,on = 'MAL_ID')"
   ]
  },
  {
   "cell_type": "code",
   "execution_count": 5,
   "id": "dce4a637",
   "metadata": {},
   "outputs": [],
   "source": [
    "anime = anime.merge(onebyone,on = 'MAL_ID')"
   ]
  },
  {
   "cell_type": "code",
   "execution_count": 6,
   "id": "c6bc1875",
   "metadata": {},
   "outputs": [],
   "source": [
    "anime['name'] = anime['Name_y']"
   ]
  },
  {
   "cell_type": "code",
   "execution_count": 7,
   "id": "193aa5e9",
   "metadata": {},
   "outputs": [],
   "source": [
    "anime['score'] = anime['Score_y']"
   ]
  },
  {
   "cell_type": "code",
   "execution_count": 8,
   "id": "1f591cda",
   "metadata": {},
   "outputs": [],
   "source": [
    "anime['rating'] = anime['Rating_y']"
   ]
  },
  {
   "cell_type": "code",
   "execution_count": 9,
   "id": "9f479286",
   "metadata": {},
   "outputs": [],
   "source": [
    "anime['genres'] = anime['Genres_y']"
   ]
  },
  {
   "cell_type": "code",
   "execution_count": 10,
   "id": "b95a07f5",
   "metadata": {},
   "outputs": [],
   "source": [
    "anime['episodes'] = anime['Episodes_y']"
   ]
  },
  {
   "cell_type": "code",
   "execution_count": 11,
   "id": "170fb759",
   "metadata": {},
   "outputs": [],
   "source": [
    "anime['synopsis'] = anime['synopsis']"
   ]
  },
  {
   "cell_type": "code",
   "execution_count": 12,
   "id": "e2a4d604",
   "metadata": {},
   "outputs": [
    {
     "data": {
      "text/html": [
       "<div>\n",
       "<style scoped>\n",
       "    .dataframe tbody tr th:only-of-type {\n",
       "        vertical-align: middle;\n",
       "    }\n",
       "\n",
       "    .dataframe tbody tr th {\n",
       "        vertical-align: top;\n",
       "    }\n",
       "\n",
       "    .dataframe thead th {\n",
       "        text-align: right;\n",
       "    }\n",
       "</style>\n",
       "<table border=\"1\" class=\"dataframe\">\n",
       "  <thead>\n",
       "    <tr style=\"text-align: right;\">\n",
       "      <th></th>\n",
       "      <th>MAL_ID</th>\n",
       "      <th>name</th>\n",
       "      <th>synopsis</th>\n",
       "      <th>genres</th>\n",
       "      <th>score</th>\n",
       "      <th>rating</th>\n",
       "      <th>episodes</th>\n",
       "      <th>URL</th>\n",
       "    </tr>\n",
       "  </thead>\n",
       "  <tbody>\n",
       "    <tr>\n",
       "      <th>0</th>\n",
       "      <td>1</td>\n",
       "      <td>Cowboy Bebop</td>\n",
       "      <td>In the year 2071, humanity has colonized sever...</td>\n",
       "      <td>Action, Adventure, Comedy, Drama, Sci-Fi, Space</td>\n",
       "      <td>8.78</td>\n",
       "      <td>R - 17+ (violence &amp; profanity)</td>\n",
       "      <td>26</td>\n",
       "      <td>https://cdn.myanimelist.net/images/anime/4/196...</td>\n",
       "    </tr>\n",
       "    <tr>\n",
       "      <th>1</th>\n",
       "      <td>5</td>\n",
       "      <td>Cowboy Bebop: Tengoku no Tobira</td>\n",
       "      <td>other day, another bounty—such is the life of ...</td>\n",
       "      <td>Action, Drama, Mystery, Sci-Fi, Space</td>\n",
       "      <td>8.39</td>\n",
       "      <td>R - 17+ (violence &amp; profanity)</td>\n",
       "      <td>1</td>\n",
       "      <td>https://cdn.myanimelist.net/images/anime/1439/...</td>\n",
       "    </tr>\n",
       "    <tr>\n",
       "      <th>2</th>\n",
       "      <td>6</td>\n",
       "      <td>Trigun</td>\n",
       "      <td>Vash the Stampede is the man with a $$60,000,0...</td>\n",
       "      <td>Action, Sci-Fi, Adventure, Comedy, Drama, Shounen</td>\n",
       "      <td>8.24</td>\n",
       "      <td>PG-13 - Teens 13 or older</td>\n",
       "      <td>26</td>\n",
       "      <td>https://cdn.myanimelist.net/images/anime/7/203...</td>\n",
       "    </tr>\n",
       "    <tr>\n",
       "      <th>3</th>\n",
       "      <td>7</td>\n",
       "      <td>Witch Hunter Robin</td>\n",
       "      <td>ches are individuals with special powers like ...</td>\n",
       "      <td>Action, Mystery, Police, Supernatural, Drama, ...</td>\n",
       "      <td>7.27</td>\n",
       "      <td>PG-13 - Teens 13 or older</td>\n",
       "      <td>26</td>\n",
       "      <td>https://cdn.myanimelist.net/images/anime/10/19...</td>\n",
       "    </tr>\n",
       "    <tr>\n",
       "      <th>4</th>\n",
       "      <td>8</td>\n",
       "      <td>Bouken Ou Beet</td>\n",
       "      <td>It is the dark century and the people are suff...</td>\n",
       "      <td>Adventure, Fantasy, Shounen, Supernatural</td>\n",
       "      <td>6.98</td>\n",
       "      <td>PG - Children</td>\n",
       "      <td>52</td>\n",
       "      <td>https://cdn.myanimelist.net/images/anime/7/215...</td>\n",
       "    </tr>\n",
       "    <tr>\n",
       "      <th>...</th>\n",
       "      <td>...</td>\n",
       "      <td>...</td>\n",
       "      <td>...</td>\n",
       "      <td>...</td>\n",
       "      <td>...</td>\n",
       "      <td>...</td>\n",
       "      <td>...</td>\n",
       "      <td>...</td>\n",
       "    </tr>\n",
       "    <tr>\n",
       "      <th>16089</th>\n",
       "      <td>48481</td>\n",
       "      <td>Daomu Biji Zhi Qinling Shen Shu</td>\n",
       "      <td>No synopsis information has been added to this...</td>\n",
       "      <td>Adventure, Mystery, Supernatural</td>\n",
       "      <td>Unknown</td>\n",
       "      <td>Unknown</td>\n",
       "      <td>Unknown</td>\n",
       "      <td>https://cdn.myanimelist.net/images/anime/1166/...</td>\n",
       "    </tr>\n",
       "    <tr>\n",
       "      <th>16090</th>\n",
       "      <td>48483</td>\n",
       "      <td>Mieruko-chan</td>\n",
       "      <td>ko is a typical high school student whose life...</td>\n",
       "      <td>Comedy, Horror, Supernatural</td>\n",
       "      <td>Unknown</td>\n",
       "      <td>Unknown</td>\n",
       "      <td>Unknown</td>\n",
       "      <td>https://cdn.myanimelist.net/images/anime/1277/...</td>\n",
       "    </tr>\n",
       "    <tr>\n",
       "      <th>16091</th>\n",
       "      <td>48488</td>\n",
       "      <td>Higurashi no Naku Koro ni Sotsu</td>\n",
       "      <td>Sequel to Higurashi no Naku Koro ni Gou .</td>\n",
       "      <td>Mystery, Dementia, Horror, Psychological, Supe...</td>\n",
       "      <td>Unknown</td>\n",
       "      <td>R - 17+ (violence &amp; profanity)</td>\n",
       "      <td>Unknown</td>\n",
       "      <td>https://cdn.myanimelist.net/images/anime/1083/...</td>\n",
       "    </tr>\n",
       "    <tr>\n",
       "      <th>16092</th>\n",
       "      <td>48491</td>\n",
       "      <td>Yama no Susume: Next Summit</td>\n",
       "      <td>New Yama no Susume anime.</td>\n",
       "      <td>Adventure, Slice of Life, Comedy</td>\n",
       "      <td>Unknown</td>\n",
       "      <td>PG-13 - Teens 13 or older</td>\n",
       "      <td>Unknown</td>\n",
       "      <td>https://cdn.myanimelist.net/images/anime/1942/...</td>\n",
       "    </tr>\n",
       "    <tr>\n",
       "      <th>16093</th>\n",
       "      <td>48492</td>\n",
       "      <td>Scarlet Nexus</td>\n",
       "      <td>Solar calendar year 2020: grotesque organisms ...</td>\n",
       "      <td>Action, Fantasy</td>\n",
       "      <td>Unknown</td>\n",
       "      <td>Unknown</td>\n",
       "      <td>Unknown</td>\n",
       "      <td>https://cdn.myanimelist.net/images/anime/1314/...</td>\n",
       "    </tr>\n",
       "  </tbody>\n",
       "</table>\n",
       "<p>16094 rows × 8 columns</p>\n",
       "</div>"
      ],
      "text/plain": [
       "       MAL_ID                             name  \\\n",
       "0           1                     Cowboy Bebop   \n",
       "1           5  Cowboy Bebop: Tengoku no Tobira   \n",
       "2           6                           Trigun   \n",
       "3           7               Witch Hunter Robin   \n",
       "4           8                   Bouken Ou Beet   \n",
       "...       ...                              ...   \n",
       "16089   48481  Daomu Biji Zhi Qinling Shen Shu   \n",
       "16090   48483                     Mieruko-chan   \n",
       "16091   48488  Higurashi no Naku Koro ni Sotsu   \n",
       "16092   48491      Yama no Susume: Next Summit   \n",
       "16093   48492                    Scarlet Nexus   \n",
       "\n",
       "                                                synopsis  \\\n",
       "0      In the year 2071, humanity has colonized sever...   \n",
       "1      other day, another bounty—such is the life of ...   \n",
       "2      Vash the Stampede is the man with a $$60,000,0...   \n",
       "3      ches are individuals with special powers like ...   \n",
       "4      It is the dark century and the people are suff...   \n",
       "...                                                  ...   \n",
       "16089  No synopsis information has been added to this...   \n",
       "16090  ko is a typical high school student whose life...   \n",
       "16091          Sequel to Higurashi no Naku Koro ni Gou .   \n",
       "16092                          New Yama no Susume anime.   \n",
       "16093  Solar calendar year 2020: grotesque organisms ...   \n",
       "\n",
       "                                                  genres    score  \\\n",
       "0        Action, Adventure, Comedy, Drama, Sci-Fi, Space     8.78   \n",
       "1                  Action, Drama, Mystery, Sci-Fi, Space     8.39   \n",
       "2      Action, Sci-Fi, Adventure, Comedy, Drama, Shounen     8.24   \n",
       "3      Action, Mystery, Police, Supernatural, Drama, ...     7.27   \n",
       "4              Adventure, Fantasy, Shounen, Supernatural     6.98   \n",
       "...                                                  ...      ...   \n",
       "16089                   Adventure, Mystery, Supernatural  Unknown   \n",
       "16090                       Comedy, Horror, Supernatural  Unknown   \n",
       "16091  Mystery, Dementia, Horror, Psychological, Supe...  Unknown   \n",
       "16092                   Adventure, Slice of Life, Comedy  Unknown   \n",
       "16093                                    Action, Fantasy  Unknown   \n",
       "\n",
       "                               rating episodes  \\\n",
       "0      R - 17+ (violence & profanity)       26   \n",
       "1      R - 17+ (violence & profanity)        1   \n",
       "2           PG-13 - Teens 13 or older       26   \n",
       "3           PG-13 - Teens 13 or older       26   \n",
       "4                       PG - Children       52   \n",
       "...                               ...      ...   \n",
       "16089                         Unknown  Unknown   \n",
       "16090                         Unknown  Unknown   \n",
       "16091  R - 17+ (violence & profanity)  Unknown   \n",
       "16092       PG-13 - Teens 13 or older  Unknown   \n",
       "16093                         Unknown  Unknown   \n",
       "\n",
       "                                                     URL  \n",
       "0      https://cdn.myanimelist.net/images/anime/4/196...  \n",
       "1      https://cdn.myanimelist.net/images/anime/1439/...  \n",
       "2      https://cdn.myanimelist.net/images/anime/7/203...  \n",
       "3      https://cdn.myanimelist.net/images/anime/10/19...  \n",
       "4      https://cdn.myanimelist.net/images/anime/7/215...  \n",
       "...                                                  ...  \n",
       "16089  https://cdn.myanimelist.net/images/anime/1166/...  \n",
       "16090  https://cdn.myanimelist.net/images/anime/1277/...  \n",
       "16091  https://cdn.myanimelist.net/images/anime/1083/...  \n",
       "16092  https://cdn.myanimelist.net/images/anime/1942/...  \n",
       "16093  https://cdn.myanimelist.net/images/anime/1314/...  \n",
       "\n",
       "[16094 rows x 8 columns]"
      ]
     },
     "execution_count": 12,
     "metadata": {},
     "output_type": "execute_result"
    }
   ],
   "source": [
    "# # Important ones\n",
    "# 1. MAL_ID\n",
    "# 2. Name\n",
    "# 3. Genres\n",
    "# 4. Synopsis \n",
    "# 5. Rating\n",
    "# 6. Episodes\n",
    "# 7. URL\n",
    "# 8. user_id\n",
    "anime = anime[['MAL_ID','name','synopsis','genres','score','rating','episodes','URL']]\n",
    "anime"
   ]
  },
  {
   "cell_type": "code",
   "execution_count": 13,
   "id": "d217943a",
   "metadata": {},
   "outputs": [],
   "source": [
    "# Convert genres to text\n",
    "\n",
    "import ast"
   ]
  },
  {
   "cell_type": "code",
   "execution_count": 14,
   "id": "ac20e234",
   "metadata": {},
   "outputs": [],
   "source": [
    "anime['genres'] = anime['genres'].str.split(', ')"
   ]
  },
  {
   "cell_type": "code",
   "execution_count": 15,
   "id": "c9c0887f",
   "metadata": {},
   "outputs": [
    {
     "data": {
      "text/html": [
       "<div>\n",
       "<style scoped>\n",
       "    .dataframe tbody tr th:only-of-type {\n",
       "        vertical-align: middle;\n",
       "    }\n",
       "\n",
       "    .dataframe tbody tr th {\n",
       "        vertical-align: top;\n",
       "    }\n",
       "\n",
       "    .dataframe thead th {\n",
       "        text-align: right;\n",
       "    }\n",
       "</style>\n",
       "<table border=\"1\" class=\"dataframe\">\n",
       "  <thead>\n",
       "    <tr style=\"text-align: right;\">\n",
       "      <th></th>\n",
       "      <th>MAL_ID</th>\n",
       "      <th>name</th>\n",
       "      <th>synopsis</th>\n",
       "      <th>genres</th>\n",
       "      <th>score</th>\n",
       "      <th>rating</th>\n",
       "      <th>episodes</th>\n",
       "      <th>URL</th>\n",
       "    </tr>\n",
       "  </thead>\n",
       "  <tbody>\n",
       "    <tr>\n",
       "      <th>0</th>\n",
       "      <td>1</td>\n",
       "      <td>Cowboy Bebop</td>\n",
       "      <td>In the year 2071, humanity has colonized sever...</td>\n",
       "      <td>[Action, Adventure, Comedy, Drama, Sci-Fi, Space]</td>\n",
       "      <td>8.78</td>\n",
       "      <td>R - 17+ (violence &amp; profanity)</td>\n",
       "      <td>26</td>\n",
       "      <td>https://cdn.myanimelist.net/images/anime/4/196...</td>\n",
       "    </tr>\n",
       "    <tr>\n",
       "      <th>1</th>\n",
       "      <td>5</td>\n",
       "      <td>Cowboy Bebop: Tengoku no Tobira</td>\n",
       "      <td>other day, another bounty—such is the life of ...</td>\n",
       "      <td>[Action, Drama, Mystery, Sci-Fi, Space]</td>\n",
       "      <td>8.39</td>\n",
       "      <td>R - 17+ (violence &amp; profanity)</td>\n",
       "      <td>1</td>\n",
       "      <td>https://cdn.myanimelist.net/images/anime/1439/...</td>\n",
       "    </tr>\n",
       "    <tr>\n",
       "      <th>2</th>\n",
       "      <td>6</td>\n",
       "      <td>Trigun</td>\n",
       "      <td>Vash the Stampede is the man with a $$60,000,0...</td>\n",
       "      <td>[Action, Sci-Fi, Adventure, Comedy, Drama, Sho...</td>\n",
       "      <td>8.24</td>\n",
       "      <td>PG-13 - Teens 13 or older</td>\n",
       "      <td>26</td>\n",
       "      <td>https://cdn.myanimelist.net/images/anime/7/203...</td>\n",
       "    </tr>\n",
       "    <tr>\n",
       "      <th>3</th>\n",
       "      <td>7</td>\n",
       "      <td>Witch Hunter Robin</td>\n",
       "      <td>ches are individuals with special powers like ...</td>\n",
       "      <td>[Action, Mystery, Police, Supernatural, Drama,...</td>\n",
       "      <td>7.27</td>\n",
       "      <td>PG-13 - Teens 13 or older</td>\n",
       "      <td>26</td>\n",
       "      <td>https://cdn.myanimelist.net/images/anime/10/19...</td>\n",
       "    </tr>\n",
       "    <tr>\n",
       "      <th>4</th>\n",
       "      <td>8</td>\n",
       "      <td>Bouken Ou Beet</td>\n",
       "      <td>It is the dark century and the people are suff...</td>\n",
       "      <td>[Adventure, Fantasy, Shounen, Supernatural]</td>\n",
       "      <td>6.98</td>\n",
       "      <td>PG - Children</td>\n",
       "      <td>52</td>\n",
       "      <td>https://cdn.myanimelist.net/images/anime/7/215...</td>\n",
       "    </tr>\n",
       "  </tbody>\n",
       "</table>\n",
       "</div>"
      ],
      "text/plain": [
       "   MAL_ID                             name  \\\n",
       "0       1                     Cowboy Bebop   \n",
       "1       5  Cowboy Bebop: Tengoku no Tobira   \n",
       "2       6                           Trigun   \n",
       "3       7               Witch Hunter Robin   \n",
       "4       8                   Bouken Ou Beet   \n",
       "\n",
       "                                            synopsis  \\\n",
       "0  In the year 2071, humanity has colonized sever...   \n",
       "1  other day, another bounty—such is the life of ...   \n",
       "2  Vash the Stampede is the man with a $$60,000,0...   \n",
       "3  ches are individuals with special powers like ...   \n",
       "4  It is the dark century and the people are suff...   \n",
       "\n",
       "                                              genres score  \\\n",
       "0  [Action, Adventure, Comedy, Drama, Sci-Fi, Space]  8.78   \n",
       "1            [Action, Drama, Mystery, Sci-Fi, Space]  8.39   \n",
       "2  [Action, Sci-Fi, Adventure, Comedy, Drama, Sho...  8.24   \n",
       "3  [Action, Mystery, Police, Supernatural, Drama,...  7.27   \n",
       "4        [Adventure, Fantasy, Shounen, Supernatural]  6.98   \n",
       "\n",
       "                           rating episodes  \\\n",
       "0  R - 17+ (violence & profanity)       26   \n",
       "1  R - 17+ (violence & profanity)        1   \n",
       "2       PG-13 - Teens 13 or older       26   \n",
       "3       PG-13 - Teens 13 or older       26   \n",
       "4                   PG - Children       52   \n",
       "\n",
       "                                                 URL  \n",
       "0  https://cdn.myanimelist.net/images/anime/4/196...  \n",
       "1  https://cdn.myanimelist.net/images/anime/1439/...  \n",
       "2  https://cdn.myanimelist.net/images/anime/7/203...  \n",
       "3  https://cdn.myanimelist.net/images/anime/10/19...  \n",
       "4  https://cdn.myanimelist.net/images/anime/7/215...  "
      ]
     },
     "execution_count": 15,
     "metadata": {},
     "output_type": "execute_result"
    }
   ],
   "source": [
    "anime.head()"
   ]
  },
  {
   "cell_type": "code",
   "execution_count": 16,
   "id": "42b20b81",
   "metadata": {},
   "outputs": [],
   "source": [
    "# Filter Synopsis with each and every word\n",
    "anime['synopsis'] = anime['synopsis'].fillna('').apply(lambda x:x.split())"
   ]
  },
  {
   "cell_type": "code",
   "execution_count": 17,
   "id": "7a63a429",
   "metadata": {},
   "outputs": [
    {
     "data": {
      "text/html": [
       "<div>\n",
       "<style scoped>\n",
       "    .dataframe tbody tr th:only-of-type {\n",
       "        vertical-align: middle;\n",
       "    }\n",
       "\n",
       "    .dataframe tbody tr th {\n",
       "        vertical-align: top;\n",
       "    }\n",
       "\n",
       "    .dataframe thead th {\n",
       "        text-align: right;\n",
       "    }\n",
       "</style>\n",
       "<table border=\"1\" class=\"dataframe\">\n",
       "  <thead>\n",
       "    <tr style=\"text-align: right;\">\n",
       "      <th></th>\n",
       "      <th>MAL_ID</th>\n",
       "      <th>name</th>\n",
       "      <th>synopsis</th>\n",
       "      <th>genres</th>\n",
       "      <th>score</th>\n",
       "      <th>rating</th>\n",
       "      <th>episodes</th>\n",
       "      <th>URL</th>\n",
       "    </tr>\n",
       "  </thead>\n",
       "  <tbody>\n",
       "    <tr>\n",
       "      <th>0</th>\n",
       "      <td>1</td>\n",
       "      <td>Cowboy Bebop</td>\n",
       "      <td>[In, the, year, 2071,, humanity, has, colonize...</td>\n",
       "      <td>[Action, Adventure, Comedy, Drama, Sci-Fi, Space]</td>\n",
       "      <td>8.78</td>\n",
       "      <td>R - 17+ (violence &amp; profanity)</td>\n",
       "      <td>26</td>\n",
       "      <td>https://cdn.myanimelist.net/images/anime/4/196...</td>\n",
       "    </tr>\n",
       "    <tr>\n",
       "      <th>1</th>\n",
       "      <td>5</td>\n",
       "      <td>Cowboy Bebop: Tengoku no Tobira</td>\n",
       "      <td>[other, day,, another, bounty—such, is, the, l...</td>\n",
       "      <td>[Action, Drama, Mystery, Sci-Fi, Space]</td>\n",
       "      <td>8.39</td>\n",
       "      <td>R - 17+ (violence &amp; profanity)</td>\n",
       "      <td>1</td>\n",
       "      <td>https://cdn.myanimelist.net/images/anime/1439/...</td>\n",
       "    </tr>\n",
       "    <tr>\n",
       "      <th>2</th>\n",
       "      <td>6</td>\n",
       "      <td>Trigun</td>\n",
       "      <td>[Vash, the, Stampede, is, the, man, with, a, $...</td>\n",
       "      <td>[Action, Sci-Fi, Adventure, Comedy, Drama, Sho...</td>\n",
       "      <td>8.24</td>\n",
       "      <td>PG-13 - Teens 13 or older</td>\n",
       "      <td>26</td>\n",
       "      <td>https://cdn.myanimelist.net/images/anime/7/203...</td>\n",
       "    </tr>\n",
       "    <tr>\n",
       "      <th>3</th>\n",
       "      <td>7</td>\n",
       "      <td>Witch Hunter Robin</td>\n",
       "      <td>[ches, are, individuals, with, special, powers...</td>\n",
       "      <td>[Action, Mystery, Police, Supernatural, Drama,...</td>\n",
       "      <td>7.27</td>\n",
       "      <td>PG-13 - Teens 13 or older</td>\n",
       "      <td>26</td>\n",
       "      <td>https://cdn.myanimelist.net/images/anime/10/19...</td>\n",
       "    </tr>\n",
       "    <tr>\n",
       "      <th>4</th>\n",
       "      <td>8</td>\n",
       "      <td>Bouken Ou Beet</td>\n",
       "      <td>[It, is, the, dark, century, and, the, people,...</td>\n",
       "      <td>[Adventure, Fantasy, Shounen, Supernatural]</td>\n",
       "      <td>6.98</td>\n",
       "      <td>PG - Children</td>\n",
       "      <td>52</td>\n",
       "      <td>https://cdn.myanimelist.net/images/anime/7/215...</td>\n",
       "    </tr>\n",
       "    <tr>\n",
       "      <th>...</th>\n",
       "      <td>...</td>\n",
       "      <td>...</td>\n",
       "      <td>...</td>\n",
       "      <td>...</td>\n",
       "      <td>...</td>\n",
       "      <td>...</td>\n",
       "      <td>...</td>\n",
       "      <td>...</td>\n",
       "    </tr>\n",
       "    <tr>\n",
       "      <th>16089</th>\n",
       "      <td>48481</td>\n",
       "      <td>Daomu Biji Zhi Qinling Shen Shu</td>\n",
       "      <td>[No, synopsis, information, has, been, added, ...</td>\n",
       "      <td>[Adventure, Mystery, Supernatural]</td>\n",
       "      <td>Unknown</td>\n",
       "      <td>Unknown</td>\n",
       "      <td>Unknown</td>\n",
       "      <td>https://cdn.myanimelist.net/images/anime/1166/...</td>\n",
       "    </tr>\n",
       "    <tr>\n",
       "      <th>16090</th>\n",
       "      <td>48483</td>\n",
       "      <td>Mieruko-chan</td>\n",
       "      <td>[ko, is, a, typical, high, school, student, wh...</td>\n",
       "      <td>[Comedy, Horror, Supernatural]</td>\n",
       "      <td>Unknown</td>\n",
       "      <td>Unknown</td>\n",
       "      <td>Unknown</td>\n",
       "      <td>https://cdn.myanimelist.net/images/anime/1277/...</td>\n",
       "    </tr>\n",
       "    <tr>\n",
       "      <th>16091</th>\n",
       "      <td>48488</td>\n",
       "      <td>Higurashi no Naku Koro ni Sotsu</td>\n",
       "      <td>[Sequel, to, Higurashi, no, Naku, Koro, ni, Go...</td>\n",
       "      <td>[Mystery, Dementia, Horror, Psychological, Sup...</td>\n",
       "      <td>Unknown</td>\n",
       "      <td>R - 17+ (violence &amp; profanity)</td>\n",
       "      <td>Unknown</td>\n",
       "      <td>https://cdn.myanimelist.net/images/anime/1083/...</td>\n",
       "    </tr>\n",
       "    <tr>\n",
       "      <th>16092</th>\n",
       "      <td>48491</td>\n",
       "      <td>Yama no Susume: Next Summit</td>\n",
       "      <td>[New, Yama, no, Susume, anime.]</td>\n",
       "      <td>[Adventure, Slice of Life, Comedy]</td>\n",
       "      <td>Unknown</td>\n",
       "      <td>PG-13 - Teens 13 or older</td>\n",
       "      <td>Unknown</td>\n",
       "      <td>https://cdn.myanimelist.net/images/anime/1942/...</td>\n",
       "    </tr>\n",
       "    <tr>\n",
       "      <th>16093</th>\n",
       "      <td>48492</td>\n",
       "      <td>Scarlet Nexus</td>\n",
       "      <td>[Solar, calendar, year, 2020:, grotesque, orga...</td>\n",
       "      <td>[Action, Fantasy]</td>\n",
       "      <td>Unknown</td>\n",
       "      <td>Unknown</td>\n",
       "      <td>Unknown</td>\n",
       "      <td>https://cdn.myanimelist.net/images/anime/1314/...</td>\n",
       "    </tr>\n",
       "  </tbody>\n",
       "</table>\n",
       "<p>16094 rows × 8 columns</p>\n",
       "</div>"
      ],
      "text/plain": [
       "       MAL_ID                             name  \\\n",
       "0           1                     Cowboy Bebop   \n",
       "1           5  Cowboy Bebop: Tengoku no Tobira   \n",
       "2           6                           Trigun   \n",
       "3           7               Witch Hunter Robin   \n",
       "4           8                   Bouken Ou Beet   \n",
       "...       ...                              ...   \n",
       "16089   48481  Daomu Biji Zhi Qinling Shen Shu   \n",
       "16090   48483                     Mieruko-chan   \n",
       "16091   48488  Higurashi no Naku Koro ni Sotsu   \n",
       "16092   48491      Yama no Susume: Next Summit   \n",
       "16093   48492                    Scarlet Nexus   \n",
       "\n",
       "                                                synopsis  \\\n",
       "0      [In, the, year, 2071,, humanity, has, colonize...   \n",
       "1      [other, day,, another, bounty—such, is, the, l...   \n",
       "2      [Vash, the, Stampede, is, the, man, with, a, $...   \n",
       "3      [ches, are, individuals, with, special, powers...   \n",
       "4      [It, is, the, dark, century, and, the, people,...   \n",
       "...                                                  ...   \n",
       "16089  [No, synopsis, information, has, been, added, ...   \n",
       "16090  [ko, is, a, typical, high, school, student, wh...   \n",
       "16091  [Sequel, to, Higurashi, no, Naku, Koro, ni, Go...   \n",
       "16092                    [New, Yama, no, Susume, anime.]   \n",
       "16093  [Solar, calendar, year, 2020:, grotesque, orga...   \n",
       "\n",
       "                                                  genres    score  \\\n",
       "0      [Action, Adventure, Comedy, Drama, Sci-Fi, Space]     8.78   \n",
       "1                [Action, Drama, Mystery, Sci-Fi, Space]     8.39   \n",
       "2      [Action, Sci-Fi, Adventure, Comedy, Drama, Sho...     8.24   \n",
       "3      [Action, Mystery, Police, Supernatural, Drama,...     7.27   \n",
       "4            [Adventure, Fantasy, Shounen, Supernatural]     6.98   \n",
       "...                                                  ...      ...   \n",
       "16089                 [Adventure, Mystery, Supernatural]  Unknown   \n",
       "16090                     [Comedy, Horror, Supernatural]  Unknown   \n",
       "16091  [Mystery, Dementia, Horror, Psychological, Sup...  Unknown   \n",
       "16092                 [Adventure, Slice of Life, Comedy]  Unknown   \n",
       "16093                                  [Action, Fantasy]  Unknown   \n",
       "\n",
       "                               rating episodes  \\\n",
       "0      R - 17+ (violence & profanity)       26   \n",
       "1      R - 17+ (violence & profanity)        1   \n",
       "2           PG-13 - Teens 13 or older       26   \n",
       "3           PG-13 - Teens 13 or older       26   \n",
       "4                       PG - Children       52   \n",
       "...                               ...      ...   \n",
       "16089                         Unknown  Unknown   \n",
       "16090                         Unknown  Unknown   \n",
       "16091  R - 17+ (violence & profanity)  Unknown   \n",
       "16092       PG-13 - Teens 13 or older  Unknown   \n",
       "16093                         Unknown  Unknown   \n",
       "\n",
       "                                                     URL  \n",
       "0      https://cdn.myanimelist.net/images/anime/4/196...  \n",
       "1      https://cdn.myanimelist.net/images/anime/1439/...  \n",
       "2      https://cdn.myanimelist.net/images/anime/7/203...  \n",
       "3      https://cdn.myanimelist.net/images/anime/10/19...  \n",
       "4      https://cdn.myanimelist.net/images/anime/7/215...  \n",
       "...                                                  ...  \n",
       "16089  https://cdn.myanimelist.net/images/anime/1166/...  \n",
       "16090  https://cdn.myanimelist.net/images/anime/1277/...  \n",
       "16091  https://cdn.myanimelist.net/images/anime/1083/...  \n",
       "16092  https://cdn.myanimelist.net/images/anime/1942/...  \n",
       "16093  https://cdn.myanimelist.net/images/anime/1314/...  \n",
       "\n",
       "[16094 rows x 8 columns]"
      ]
     },
     "execution_count": 17,
     "metadata": {},
     "output_type": "execute_result"
    }
   ],
   "source": [
    "anime "
   ]
  },
  {
   "cell_type": "code",
   "execution_count": 18,
   "id": "f2845fb7",
   "metadata": {},
   "outputs": [
    {
     "data": {
      "text/plain": [
       "['In',\n",
       " 'the',\n",
       " 'year',\n",
       " '2071,',\n",
       " 'humanity',\n",
       " 'has',\n",
       " 'colonized',\n",
       " 'several',\n",
       " 'of',\n",
       " 'the',\n",
       " 'planets',\n",
       " 'and',\n",
       " 'moons',\n",
       " 'of',\n",
       " 'the',\n",
       " 'solar',\n",
       " 'system',\n",
       " 'leaving',\n",
       " 'the',\n",
       " 'now',\n",
       " 'uninhabitable',\n",
       " 'surface',\n",
       " 'of',\n",
       " 'planet',\n",
       " 'Earth',\n",
       " 'behind.',\n",
       " 'The',\n",
       " 'Inter',\n",
       " 'Solar',\n",
       " 'System',\n",
       " 'Police',\n",
       " 'attempts',\n",
       " 'to',\n",
       " 'keep',\n",
       " 'peace',\n",
       " 'in',\n",
       " 'the',\n",
       " 'galaxy,',\n",
       " 'aided',\n",
       " 'in',\n",
       " 'part',\n",
       " 'by',\n",
       " 'outlaw',\n",
       " 'bounty',\n",
       " 'hunters,',\n",
       " 'referred',\n",
       " 'to',\n",
       " 'as',\n",
       " '\"Cowboys.\"',\n",
       " 'The',\n",
       " 'ragtag',\n",
       " 'team',\n",
       " 'aboard',\n",
       " 'the',\n",
       " 'spaceship',\n",
       " 'Bebop',\n",
       " 'are',\n",
       " 'two',\n",
       " 'such',\n",
       " 'individuals.',\n",
       " 'Mellow',\n",
       " 'and',\n",
       " 'carefree',\n",
       " 'Spike',\n",
       " 'Spiegel',\n",
       " 'is',\n",
       " 'balanced',\n",
       " 'by',\n",
       " 'his',\n",
       " 'boisterous,',\n",
       " 'pragmatic',\n",
       " 'partner',\n",
       " 'Jet',\n",
       " 'Black',\n",
       " 'as',\n",
       " 'the',\n",
       " 'pair',\n",
       " 'makes',\n",
       " 'a',\n",
       " 'living',\n",
       " 'chasing',\n",
       " 'bounties',\n",
       " 'and',\n",
       " 'collecting',\n",
       " 'rewards.',\n",
       " 'Thrown',\n",
       " 'off',\n",
       " 'course',\n",
       " 'by',\n",
       " 'the',\n",
       " 'addition',\n",
       " 'of',\n",
       " 'new',\n",
       " 'members',\n",
       " 'that',\n",
       " 'they',\n",
       " 'meet',\n",
       " 'in',\n",
       " 'their',\n",
       " 'travels—Ein,',\n",
       " 'a',\n",
       " 'genetically',\n",
       " 'engineered,',\n",
       " 'highly',\n",
       " 'intelligent',\n",
       " 'Welsh',\n",
       " 'Corgi;',\n",
       " 'femme',\n",
       " 'fatale',\n",
       " 'Faye',\n",
       " 'Valentine,',\n",
       " 'an',\n",
       " 'enigmatic',\n",
       " 'trickster',\n",
       " 'with',\n",
       " 'memory',\n",
       " 'loss;',\n",
       " 'and',\n",
       " 'the',\n",
       " 'strange',\n",
       " 'computer',\n",
       " 'whiz',\n",
       " 'kid',\n",
       " 'Edward',\n",
       " 'Wong—the',\n",
       " 'crew',\n",
       " 'embarks',\n",
       " 'on',\n",
       " 'thrilling',\n",
       " 'adventures',\n",
       " 'that',\n",
       " 'unravel',\n",
       " 'each',\n",
       " \"member's\",\n",
       " 'dark',\n",
       " 'and',\n",
       " 'mysterious',\n",
       " 'past',\n",
       " 'little',\n",
       " 'by',\n",
       " 'little.',\n",
       " 'Well-balanced',\n",
       " 'with',\n",
       " 'high',\n",
       " 'density',\n",
       " 'action',\n",
       " 'and',\n",
       " 'light-hearted',\n",
       " 'comedy,',\n",
       " 'Cowboy',\n",
       " 'Bebop',\n",
       " 'is',\n",
       " 'a',\n",
       " 'space',\n",
       " 'Western',\n",
       " 'classic',\n",
       " 'and',\n",
       " 'an',\n",
       " 'homage',\n",
       " 'to',\n",
       " 'the',\n",
       " 'smooth',\n",
       " 'and',\n",
       " 'improvised',\n",
       " 'music',\n",
       " 'it',\n",
       " 'is',\n",
       " 'named',\n",
       " 'after.']"
      ]
     },
     "execution_count": 18,
     "metadata": {},
     "output_type": "execute_result"
    }
   ],
   "source": [
    "anime.iloc[0]['synopsis']"
   ]
  },
  {
   "cell_type": "code",
   "execution_count": 19,
   "id": "575eb39f",
   "metadata": {},
   "outputs": [],
   "source": [
    "# Remove Spacing\n",
    "\n",
    "def convert_nospace(word):\n",
    "    l = []\n",
    "    for i in word:\n",
    "        l.append(i.replace(\" \",\"\"))\n",
    "    return l"
   ]
  },
  {
   "cell_type": "code",
   "execution_count": 20,
   "id": "2e3505d1",
   "metadata": {},
   "outputs": [],
   "source": [
    "anime['synopsis'] = anime['synopsis'].apply(convert_nospace)"
   ]
  },
  {
   "cell_type": "code",
   "execution_count": 21,
   "id": "30e96234",
   "metadata": {},
   "outputs": [],
   "source": [
    "anime['genres'] = anime['genres'].apply(convert_nospace)"
   ]
  },
  {
   "cell_type": "code",
   "execution_count": 22,
   "id": "25c1c816",
   "metadata": {},
   "outputs": [
    {
     "data": {
      "text/html": [
       "<div>\n",
       "<style scoped>\n",
       "    .dataframe tbody tr th:only-of-type {\n",
       "        vertical-align: middle;\n",
       "    }\n",
       "\n",
       "    .dataframe tbody tr th {\n",
       "        vertical-align: top;\n",
       "    }\n",
       "\n",
       "    .dataframe thead th {\n",
       "        text-align: right;\n",
       "    }\n",
       "</style>\n",
       "<table border=\"1\" class=\"dataframe\">\n",
       "  <thead>\n",
       "    <tr style=\"text-align: right;\">\n",
       "      <th></th>\n",
       "      <th>MAL_ID</th>\n",
       "      <th>name</th>\n",
       "      <th>synopsis</th>\n",
       "      <th>genres</th>\n",
       "      <th>score</th>\n",
       "      <th>rating</th>\n",
       "      <th>episodes</th>\n",
       "      <th>URL</th>\n",
       "    </tr>\n",
       "  </thead>\n",
       "  <tbody>\n",
       "    <tr>\n",
       "      <th>0</th>\n",
       "      <td>1</td>\n",
       "      <td>Cowboy Bebop</td>\n",
       "      <td>[In, the, year, 2071,, humanity, has, colonize...</td>\n",
       "      <td>[Action, Adventure, Comedy, Drama, Sci-Fi, Space]</td>\n",
       "      <td>8.78</td>\n",
       "      <td>R - 17+ (violence &amp; profanity)</td>\n",
       "      <td>26</td>\n",
       "      <td>https://cdn.myanimelist.net/images/anime/4/196...</td>\n",
       "    </tr>\n",
       "    <tr>\n",
       "      <th>1</th>\n",
       "      <td>5</td>\n",
       "      <td>Cowboy Bebop: Tengoku no Tobira</td>\n",
       "      <td>[other, day,, another, bounty—such, is, the, l...</td>\n",
       "      <td>[Action, Drama, Mystery, Sci-Fi, Space]</td>\n",
       "      <td>8.39</td>\n",
       "      <td>R - 17+ (violence &amp; profanity)</td>\n",
       "      <td>1</td>\n",
       "      <td>https://cdn.myanimelist.net/images/anime/1439/...</td>\n",
       "    </tr>\n",
       "    <tr>\n",
       "      <th>2</th>\n",
       "      <td>6</td>\n",
       "      <td>Trigun</td>\n",
       "      <td>[Vash, the, Stampede, is, the, man, with, a, $...</td>\n",
       "      <td>[Action, Sci-Fi, Adventure, Comedy, Drama, Sho...</td>\n",
       "      <td>8.24</td>\n",
       "      <td>PG-13 - Teens 13 or older</td>\n",
       "      <td>26</td>\n",
       "      <td>https://cdn.myanimelist.net/images/anime/7/203...</td>\n",
       "    </tr>\n",
       "    <tr>\n",
       "      <th>3</th>\n",
       "      <td>7</td>\n",
       "      <td>Witch Hunter Robin</td>\n",
       "      <td>[ches, are, individuals, with, special, powers...</td>\n",
       "      <td>[Action, Mystery, Police, Supernatural, Drama,...</td>\n",
       "      <td>7.27</td>\n",
       "      <td>PG-13 - Teens 13 or older</td>\n",
       "      <td>26</td>\n",
       "      <td>https://cdn.myanimelist.net/images/anime/10/19...</td>\n",
       "    </tr>\n",
       "    <tr>\n",
       "      <th>4</th>\n",
       "      <td>8</td>\n",
       "      <td>Bouken Ou Beet</td>\n",
       "      <td>[It, is, the, dark, century, and, the, people,...</td>\n",
       "      <td>[Adventure, Fantasy, Shounen, Supernatural]</td>\n",
       "      <td>6.98</td>\n",
       "      <td>PG - Children</td>\n",
       "      <td>52</td>\n",
       "      <td>https://cdn.myanimelist.net/images/anime/7/215...</td>\n",
       "    </tr>\n",
       "    <tr>\n",
       "      <th>...</th>\n",
       "      <td>...</td>\n",
       "      <td>...</td>\n",
       "      <td>...</td>\n",
       "      <td>...</td>\n",
       "      <td>...</td>\n",
       "      <td>...</td>\n",
       "      <td>...</td>\n",
       "      <td>...</td>\n",
       "    </tr>\n",
       "    <tr>\n",
       "      <th>16089</th>\n",
       "      <td>48481</td>\n",
       "      <td>Daomu Biji Zhi Qinling Shen Shu</td>\n",
       "      <td>[No, synopsis, information, has, been, added, ...</td>\n",
       "      <td>[Adventure, Mystery, Supernatural]</td>\n",
       "      <td>Unknown</td>\n",
       "      <td>Unknown</td>\n",
       "      <td>Unknown</td>\n",
       "      <td>https://cdn.myanimelist.net/images/anime/1166/...</td>\n",
       "    </tr>\n",
       "    <tr>\n",
       "      <th>16090</th>\n",
       "      <td>48483</td>\n",
       "      <td>Mieruko-chan</td>\n",
       "      <td>[ko, is, a, typical, high, school, student, wh...</td>\n",
       "      <td>[Comedy, Horror, Supernatural]</td>\n",
       "      <td>Unknown</td>\n",
       "      <td>Unknown</td>\n",
       "      <td>Unknown</td>\n",
       "      <td>https://cdn.myanimelist.net/images/anime/1277/...</td>\n",
       "    </tr>\n",
       "    <tr>\n",
       "      <th>16091</th>\n",
       "      <td>48488</td>\n",
       "      <td>Higurashi no Naku Koro ni Sotsu</td>\n",
       "      <td>[Sequel, to, Higurashi, no, Naku, Koro, ni, Go...</td>\n",
       "      <td>[Mystery, Dementia, Horror, Psychological, Sup...</td>\n",
       "      <td>Unknown</td>\n",
       "      <td>R - 17+ (violence &amp; profanity)</td>\n",
       "      <td>Unknown</td>\n",
       "      <td>https://cdn.myanimelist.net/images/anime/1083/...</td>\n",
       "    </tr>\n",
       "    <tr>\n",
       "      <th>16092</th>\n",
       "      <td>48491</td>\n",
       "      <td>Yama no Susume: Next Summit</td>\n",
       "      <td>[New, Yama, no, Susume, anime.]</td>\n",
       "      <td>[Adventure, SliceofLife, Comedy]</td>\n",
       "      <td>Unknown</td>\n",
       "      <td>PG-13 - Teens 13 or older</td>\n",
       "      <td>Unknown</td>\n",
       "      <td>https://cdn.myanimelist.net/images/anime/1942/...</td>\n",
       "    </tr>\n",
       "    <tr>\n",
       "      <th>16093</th>\n",
       "      <td>48492</td>\n",
       "      <td>Scarlet Nexus</td>\n",
       "      <td>[Solar, calendar, year, 2020:, grotesque, orga...</td>\n",
       "      <td>[Action, Fantasy]</td>\n",
       "      <td>Unknown</td>\n",
       "      <td>Unknown</td>\n",
       "      <td>Unknown</td>\n",
       "      <td>https://cdn.myanimelist.net/images/anime/1314/...</td>\n",
       "    </tr>\n",
       "  </tbody>\n",
       "</table>\n",
       "<p>16094 rows × 8 columns</p>\n",
       "</div>"
      ],
      "text/plain": [
       "       MAL_ID                             name  \\\n",
       "0           1                     Cowboy Bebop   \n",
       "1           5  Cowboy Bebop: Tengoku no Tobira   \n",
       "2           6                           Trigun   \n",
       "3           7               Witch Hunter Robin   \n",
       "4           8                   Bouken Ou Beet   \n",
       "...       ...                              ...   \n",
       "16089   48481  Daomu Biji Zhi Qinling Shen Shu   \n",
       "16090   48483                     Mieruko-chan   \n",
       "16091   48488  Higurashi no Naku Koro ni Sotsu   \n",
       "16092   48491      Yama no Susume: Next Summit   \n",
       "16093   48492                    Scarlet Nexus   \n",
       "\n",
       "                                                synopsis  \\\n",
       "0      [In, the, year, 2071,, humanity, has, colonize...   \n",
       "1      [other, day,, another, bounty—such, is, the, l...   \n",
       "2      [Vash, the, Stampede, is, the, man, with, a, $...   \n",
       "3      [ches, are, individuals, with, special, powers...   \n",
       "4      [It, is, the, dark, century, and, the, people,...   \n",
       "...                                                  ...   \n",
       "16089  [No, synopsis, information, has, been, added, ...   \n",
       "16090  [ko, is, a, typical, high, school, student, wh...   \n",
       "16091  [Sequel, to, Higurashi, no, Naku, Koro, ni, Go...   \n",
       "16092                    [New, Yama, no, Susume, anime.]   \n",
       "16093  [Solar, calendar, year, 2020:, grotesque, orga...   \n",
       "\n",
       "                                                  genres    score  \\\n",
       "0      [Action, Adventure, Comedy, Drama, Sci-Fi, Space]     8.78   \n",
       "1                [Action, Drama, Mystery, Sci-Fi, Space]     8.39   \n",
       "2      [Action, Sci-Fi, Adventure, Comedy, Drama, Sho...     8.24   \n",
       "3      [Action, Mystery, Police, Supernatural, Drama,...     7.27   \n",
       "4            [Adventure, Fantasy, Shounen, Supernatural]     6.98   \n",
       "...                                                  ...      ...   \n",
       "16089                 [Adventure, Mystery, Supernatural]  Unknown   \n",
       "16090                     [Comedy, Horror, Supernatural]  Unknown   \n",
       "16091  [Mystery, Dementia, Horror, Psychological, Sup...  Unknown   \n",
       "16092                   [Adventure, SliceofLife, Comedy]  Unknown   \n",
       "16093                                  [Action, Fantasy]  Unknown   \n",
       "\n",
       "                               rating episodes  \\\n",
       "0      R - 17+ (violence & profanity)       26   \n",
       "1      R - 17+ (violence & profanity)        1   \n",
       "2           PG-13 - Teens 13 or older       26   \n",
       "3           PG-13 - Teens 13 or older       26   \n",
       "4                       PG - Children       52   \n",
       "...                               ...      ...   \n",
       "16089                         Unknown  Unknown   \n",
       "16090                         Unknown  Unknown   \n",
       "16091  R - 17+ (violence & profanity)  Unknown   \n",
       "16092       PG-13 - Teens 13 or older  Unknown   \n",
       "16093                         Unknown  Unknown   \n",
       "\n",
       "                                                     URL  \n",
       "0      https://cdn.myanimelist.net/images/anime/4/196...  \n",
       "1      https://cdn.myanimelist.net/images/anime/1439/...  \n",
       "2      https://cdn.myanimelist.net/images/anime/7/203...  \n",
       "3      https://cdn.myanimelist.net/images/anime/10/19...  \n",
       "4      https://cdn.myanimelist.net/images/anime/7/215...  \n",
       "...                                                  ...  \n",
       "16089  https://cdn.myanimelist.net/images/anime/1166/...  \n",
       "16090  https://cdn.myanimelist.net/images/anime/1277/...  \n",
       "16091  https://cdn.myanimelist.net/images/anime/1083/...  \n",
       "16092  https://cdn.myanimelist.net/images/anime/1942/...  \n",
       "16093  https://cdn.myanimelist.net/images/anime/1314/...  \n",
       "\n",
       "[16094 rows x 8 columns]"
      ]
     },
     "execution_count": 22,
     "metadata": {},
     "output_type": "execute_result"
    }
   ],
   "source": [
    "anime"
   ]
  },
  {
   "cell_type": "code",
   "execution_count": 23,
   "id": "5308d9e9",
   "metadata": {},
   "outputs": [],
   "source": [
    "#Apply tags\n",
    "anime['tags'] = anime['synopsis'] + anime['genres'] "
   ]
  },
  {
   "cell_type": "code",
   "execution_count": 24,
   "id": "ffc86109",
   "metadata": {},
   "outputs": [
    {
     "data": {
      "text/plain": [
       "['In',\n",
       " 'the',\n",
       " 'year',\n",
       " '2071,',\n",
       " 'humanity',\n",
       " 'has',\n",
       " 'colonized',\n",
       " 'several',\n",
       " 'of',\n",
       " 'the',\n",
       " 'planets',\n",
       " 'and',\n",
       " 'moons',\n",
       " 'of',\n",
       " 'the',\n",
       " 'solar',\n",
       " 'system',\n",
       " 'leaving',\n",
       " 'the',\n",
       " 'now',\n",
       " 'uninhabitable',\n",
       " 'surface',\n",
       " 'of',\n",
       " 'planet',\n",
       " 'Earth',\n",
       " 'behind.',\n",
       " 'The',\n",
       " 'Inter',\n",
       " 'Solar',\n",
       " 'System',\n",
       " 'Police',\n",
       " 'attempts',\n",
       " 'to',\n",
       " 'keep',\n",
       " 'peace',\n",
       " 'in',\n",
       " 'the',\n",
       " 'galaxy,',\n",
       " 'aided',\n",
       " 'in',\n",
       " 'part',\n",
       " 'by',\n",
       " 'outlaw',\n",
       " 'bounty',\n",
       " 'hunters,',\n",
       " 'referred',\n",
       " 'to',\n",
       " 'as',\n",
       " '\"Cowboys.\"',\n",
       " 'The',\n",
       " 'ragtag',\n",
       " 'team',\n",
       " 'aboard',\n",
       " 'the',\n",
       " 'spaceship',\n",
       " 'Bebop',\n",
       " 'are',\n",
       " 'two',\n",
       " 'such',\n",
       " 'individuals.',\n",
       " 'Mellow',\n",
       " 'and',\n",
       " 'carefree',\n",
       " 'Spike',\n",
       " 'Spiegel',\n",
       " 'is',\n",
       " 'balanced',\n",
       " 'by',\n",
       " 'his',\n",
       " 'boisterous,',\n",
       " 'pragmatic',\n",
       " 'partner',\n",
       " 'Jet',\n",
       " 'Black',\n",
       " 'as',\n",
       " 'the',\n",
       " 'pair',\n",
       " 'makes',\n",
       " 'a',\n",
       " 'living',\n",
       " 'chasing',\n",
       " 'bounties',\n",
       " 'and',\n",
       " 'collecting',\n",
       " 'rewards.',\n",
       " 'Thrown',\n",
       " 'off',\n",
       " 'course',\n",
       " 'by',\n",
       " 'the',\n",
       " 'addition',\n",
       " 'of',\n",
       " 'new',\n",
       " 'members',\n",
       " 'that',\n",
       " 'they',\n",
       " 'meet',\n",
       " 'in',\n",
       " 'their',\n",
       " 'travels—Ein,',\n",
       " 'a',\n",
       " 'genetically',\n",
       " 'engineered,',\n",
       " 'highly',\n",
       " 'intelligent',\n",
       " 'Welsh',\n",
       " 'Corgi;',\n",
       " 'femme',\n",
       " 'fatale',\n",
       " 'Faye',\n",
       " 'Valentine,',\n",
       " 'an',\n",
       " 'enigmatic',\n",
       " 'trickster',\n",
       " 'with',\n",
       " 'memory',\n",
       " 'loss;',\n",
       " 'and',\n",
       " 'the',\n",
       " 'strange',\n",
       " 'computer',\n",
       " 'whiz',\n",
       " 'kid',\n",
       " 'Edward',\n",
       " 'Wong—the',\n",
       " 'crew',\n",
       " 'embarks',\n",
       " 'on',\n",
       " 'thrilling',\n",
       " 'adventures',\n",
       " 'that',\n",
       " 'unravel',\n",
       " 'each',\n",
       " \"member's\",\n",
       " 'dark',\n",
       " 'and',\n",
       " 'mysterious',\n",
       " 'past',\n",
       " 'little',\n",
       " 'by',\n",
       " 'little.',\n",
       " 'Well-balanced',\n",
       " 'with',\n",
       " 'high',\n",
       " 'density',\n",
       " 'action',\n",
       " 'and',\n",
       " 'light-hearted',\n",
       " 'comedy,',\n",
       " 'Cowboy',\n",
       " 'Bebop',\n",
       " 'is',\n",
       " 'a',\n",
       " 'space',\n",
       " 'Western',\n",
       " 'classic',\n",
       " 'and',\n",
       " 'an',\n",
       " 'homage',\n",
       " 'to',\n",
       " 'the',\n",
       " 'smooth',\n",
       " 'and',\n",
       " 'improvised',\n",
       " 'music',\n",
       " 'it',\n",
       " 'is',\n",
       " 'named',\n",
       " 'after.',\n",
       " 'Action',\n",
       " 'Adventure',\n",
       " 'Comedy',\n",
       " 'Drama',\n",
       " 'Sci-Fi',\n",
       " 'Space']"
      ]
     },
     "execution_count": 24,
     "metadata": {},
     "output_type": "execute_result"
    }
   ],
   "source": [
    "anime.iloc[0]['tags']"
   ]
  },
  {
   "cell_type": "code",
   "execution_count": 25,
   "id": "522721fe",
   "metadata": {},
   "outputs": [],
   "source": [
    "ndf = anime[['MAL_ID','name','tags']]"
   ]
  },
  {
   "cell_type": "code",
   "execution_count": 26,
   "id": "4615c06e",
   "metadata": {},
   "outputs": [
    {
     "data": {
      "text/html": [
       "<div>\n",
       "<style scoped>\n",
       "    .dataframe tbody tr th:only-of-type {\n",
       "        vertical-align: middle;\n",
       "    }\n",
       "\n",
       "    .dataframe tbody tr th {\n",
       "        vertical-align: top;\n",
       "    }\n",
       "\n",
       "    .dataframe thead th {\n",
       "        text-align: right;\n",
       "    }\n",
       "</style>\n",
       "<table border=\"1\" class=\"dataframe\">\n",
       "  <thead>\n",
       "    <tr style=\"text-align: right;\">\n",
       "      <th></th>\n",
       "      <th>MAL_ID</th>\n",
       "      <th>name</th>\n",
       "      <th>tags</th>\n",
       "    </tr>\n",
       "  </thead>\n",
       "  <tbody>\n",
       "    <tr>\n",
       "      <th>0</th>\n",
       "      <td>1</td>\n",
       "      <td>Cowboy Bebop</td>\n",
       "      <td>[In, the, year, 2071,, humanity, has, colonize...</td>\n",
       "    </tr>\n",
       "    <tr>\n",
       "      <th>1</th>\n",
       "      <td>5</td>\n",
       "      <td>Cowboy Bebop: Tengoku no Tobira</td>\n",
       "      <td>[other, day,, another, bounty—such, is, the, l...</td>\n",
       "    </tr>\n",
       "    <tr>\n",
       "      <th>2</th>\n",
       "      <td>6</td>\n",
       "      <td>Trigun</td>\n",
       "      <td>[Vash, the, Stampede, is, the, man, with, a, $...</td>\n",
       "    </tr>\n",
       "    <tr>\n",
       "      <th>3</th>\n",
       "      <td>7</td>\n",
       "      <td>Witch Hunter Robin</td>\n",
       "      <td>[ches, are, individuals, with, special, powers...</td>\n",
       "    </tr>\n",
       "    <tr>\n",
       "      <th>4</th>\n",
       "      <td>8</td>\n",
       "      <td>Bouken Ou Beet</td>\n",
       "      <td>[It, is, the, dark, century, and, the, people,...</td>\n",
       "    </tr>\n",
       "    <tr>\n",
       "      <th>...</th>\n",
       "      <td>...</td>\n",
       "      <td>...</td>\n",
       "      <td>...</td>\n",
       "    </tr>\n",
       "    <tr>\n",
       "      <th>16089</th>\n",
       "      <td>48481</td>\n",
       "      <td>Daomu Biji Zhi Qinling Shen Shu</td>\n",
       "      <td>[No, synopsis, information, has, been, added, ...</td>\n",
       "    </tr>\n",
       "    <tr>\n",
       "      <th>16090</th>\n",
       "      <td>48483</td>\n",
       "      <td>Mieruko-chan</td>\n",
       "      <td>[ko, is, a, typical, high, school, student, wh...</td>\n",
       "    </tr>\n",
       "    <tr>\n",
       "      <th>16091</th>\n",
       "      <td>48488</td>\n",
       "      <td>Higurashi no Naku Koro ni Sotsu</td>\n",
       "      <td>[Sequel, to, Higurashi, no, Naku, Koro, ni, Go...</td>\n",
       "    </tr>\n",
       "    <tr>\n",
       "      <th>16092</th>\n",
       "      <td>48491</td>\n",
       "      <td>Yama no Susume: Next Summit</td>\n",
       "      <td>[New, Yama, no, Susume, anime., Adventure, Sli...</td>\n",
       "    </tr>\n",
       "    <tr>\n",
       "      <th>16093</th>\n",
       "      <td>48492</td>\n",
       "      <td>Scarlet Nexus</td>\n",
       "      <td>[Solar, calendar, year, 2020:, grotesque, orga...</td>\n",
       "    </tr>\n",
       "  </tbody>\n",
       "</table>\n",
       "<p>16094 rows × 3 columns</p>\n",
       "</div>"
      ],
      "text/plain": [
       "       MAL_ID                             name  \\\n",
       "0           1                     Cowboy Bebop   \n",
       "1           5  Cowboy Bebop: Tengoku no Tobira   \n",
       "2           6                           Trigun   \n",
       "3           7               Witch Hunter Robin   \n",
       "4           8                   Bouken Ou Beet   \n",
       "...       ...                              ...   \n",
       "16089   48481  Daomu Biji Zhi Qinling Shen Shu   \n",
       "16090   48483                     Mieruko-chan   \n",
       "16091   48488  Higurashi no Naku Koro ni Sotsu   \n",
       "16092   48491      Yama no Susume: Next Summit   \n",
       "16093   48492                    Scarlet Nexus   \n",
       "\n",
       "                                                    tags  \n",
       "0      [In, the, year, 2071,, humanity, has, colonize...  \n",
       "1      [other, day,, another, bounty—such, is, the, l...  \n",
       "2      [Vash, the, Stampede, is, the, man, with, a, $...  \n",
       "3      [ches, are, individuals, with, special, powers...  \n",
       "4      [It, is, the, dark, century, and, the, people,...  \n",
       "...                                                  ...  \n",
       "16089  [No, synopsis, information, has, been, added, ...  \n",
       "16090  [ko, is, a, typical, high, school, student, wh...  \n",
       "16091  [Sequel, to, Higurashi, no, Naku, Koro, ni, Go...  \n",
       "16092  [New, Yama, no, Susume, anime., Adventure, Sli...  \n",
       "16093  [Solar, calendar, year, 2020:, grotesque, orga...  \n",
       "\n",
       "[16094 rows x 3 columns]"
      ]
     },
     "execution_count": 26,
     "metadata": {},
     "output_type": "execute_result"
    }
   ],
   "source": [
    "ndf"
   ]
  },
  {
   "cell_type": "code",
   "execution_count": 27,
   "id": "e3084e2e",
   "metadata": {},
   "outputs": [
    {
     "name": "stderr",
     "output_type": "stream",
     "text": [
      "C:\\Users\\60169\\AppData\\Local\\Temp\\ipykernel_11368\\331527534.py:1: SettingWithCopyWarning: \n",
      "A value is trying to be set on a copy of a slice from a DataFrame.\n",
      "Try using .loc[row_indexer,col_indexer] = value instead\n",
      "\n",
      "See the caveats in the documentation: https://pandas.pydata.org/pandas-docs/stable/user_guide/indexing.html#returning-a-view-versus-a-copy\n",
      "  ndf['tags'] = ndf['tags'].apply(lambda x:\" \".join(x))\n"
     ]
    }
   ],
   "source": [
    "ndf['tags'] = ndf['tags'].apply(lambda x:\" \".join(x))"
   ]
  },
  {
   "cell_type": "code",
   "execution_count": 28,
   "id": "ee75ec8d",
   "metadata": {},
   "outputs": [
    {
     "data": {
      "text/html": [
       "<div>\n",
       "<style scoped>\n",
       "    .dataframe tbody tr th:only-of-type {\n",
       "        vertical-align: middle;\n",
       "    }\n",
       "\n",
       "    .dataframe tbody tr th {\n",
       "        vertical-align: top;\n",
       "    }\n",
       "\n",
       "    .dataframe thead th {\n",
       "        text-align: right;\n",
       "    }\n",
       "</style>\n",
       "<table border=\"1\" class=\"dataframe\">\n",
       "  <thead>\n",
       "    <tr style=\"text-align: right;\">\n",
       "      <th></th>\n",
       "      <th>MAL_ID</th>\n",
       "      <th>name</th>\n",
       "      <th>tags</th>\n",
       "    </tr>\n",
       "  </thead>\n",
       "  <tbody>\n",
       "    <tr>\n",
       "      <th>0</th>\n",
       "      <td>1</td>\n",
       "      <td>Cowboy Bebop</td>\n",
       "      <td>In the year 2071, humanity has colonized sever...</td>\n",
       "    </tr>\n",
       "    <tr>\n",
       "      <th>1</th>\n",
       "      <td>5</td>\n",
       "      <td>Cowboy Bebop: Tengoku no Tobira</td>\n",
       "      <td>other day, another bounty—such is the life of ...</td>\n",
       "    </tr>\n",
       "    <tr>\n",
       "      <th>2</th>\n",
       "      <td>6</td>\n",
       "      <td>Trigun</td>\n",
       "      <td>Vash the Stampede is the man with a $$60,000,0...</td>\n",
       "    </tr>\n",
       "    <tr>\n",
       "      <th>3</th>\n",
       "      <td>7</td>\n",
       "      <td>Witch Hunter Robin</td>\n",
       "      <td>ches are individuals with special powers like ...</td>\n",
       "    </tr>\n",
       "    <tr>\n",
       "      <th>4</th>\n",
       "      <td>8</td>\n",
       "      <td>Bouken Ou Beet</td>\n",
       "      <td>It is the dark century and the people are suff...</td>\n",
       "    </tr>\n",
       "    <tr>\n",
       "      <th>...</th>\n",
       "      <td>...</td>\n",
       "      <td>...</td>\n",
       "      <td>...</td>\n",
       "    </tr>\n",
       "    <tr>\n",
       "      <th>16089</th>\n",
       "      <td>48481</td>\n",
       "      <td>Daomu Biji Zhi Qinling Shen Shu</td>\n",
       "      <td>No synopsis information has been added to this...</td>\n",
       "    </tr>\n",
       "    <tr>\n",
       "      <th>16090</th>\n",
       "      <td>48483</td>\n",
       "      <td>Mieruko-chan</td>\n",
       "      <td>ko is a typical high school student whose life...</td>\n",
       "    </tr>\n",
       "    <tr>\n",
       "      <th>16091</th>\n",
       "      <td>48488</td>\n",
       "      <td>Higurashi no Naku Koro ni Sotsu</td>\n",
       "      <td>Sequel to Higurashi no Naku Koro ni Gou . Myst...</td>\n",
       "    </tr>\n",
       "    <tr>\n",
       "      <th>16092</th>\n",
       "      <td>48491</td>\n",
       "      <td>Yama no Susume: Next Summit</td>\n",
       "      <td>New Yama no Susume anime. Adventure SliceofLif...</td>\n",
       "    </tr>\n",
       "    <tr>\n",
       "      <th>16093</th>\n",
       "      <td>48492</td>\n",
       "      <td>Scarlet Nexus</td>\n",
       "      <td>Solar calendar year 2020: grotesque organisms ...</td>\n",
       "    </tr>\n",
       "  </tbody>\n",
       "</table>\n",
       "<p>16094 rows × 3 columns</p>\n",
       "</div>"
      ],
      "text/plain": [
       "       MAL_ID                             name  \\\n",
       "0           1                     Cowboy Bebop   \n",
       "1           5  Cowboy Bebop: Tengoku no Tobira   \n",
       "2           6                           Trigun   \n",
       "3           7               Witch Hunter Robin   \n",
       "4           8                   Bouken Ou Beet   \n",
       "...       ...                              ...   \n",
       "16089   48481  Daomu Biji Zhi Qinling Shen Shu   \n",
       "16090   48483                     Mieruko-chan   \n",
       "16091   48488  Higurashi no Naku Koro ni Sotsu   \n",
       "16092   48491      Yama no Susume: Next Summit   \n",
       "16093   48492                    Scarlet Nexus   \n",
       "\n",
       "                                                    tags  \n",
       "0      In the year 2071, humanity has colonized sever...  \n",
       "1      other day, another bounty—such is the life of ...  \n",
       "2      Vash the Stampede is the man with a $$60,000,0...  \n",
       "3      ches are individuals with special powers like ...  \n",
       "4      It is the dark century and the people are suff...  \n",
       "...                                                  ...  \n",
       "16089  No synopsis information has been added to this...  \n",
       "16090  ko is a typical high school student whose life...  \n",
       "16091  Sequel to Higurashi no Naku Koro ni Gou . Myst...  \n",
       "16092  New Yama no Susume anime. Adventure SliceofLif...  \n",
       "16093  Solar calendar year 2020: grotesque organisms ...  \n",
       "\n",
       "[16094 rows x 3 columns]"
      ]
     },
     "execution_count": 28,
     "metadata": {},
     "output_type": "execute_result"
    }
   ],
   "source": [
    "ndf"
   ]
  },
  {
   "cell_type": "code",
   "execution_count": 29,
   "id": "f35ffde2",
   "metadata": {},
   "outputs": [
    {
     "data": {
      "text/plain": [
       "'In the year 2071, humanity has colonized several of the planets and moons of the solar system leaving the now uninhabitable surface of planet Earth behind. The Inter Solar System Police attempts to keep peace in the galaxy, aided in part by outlaw bounty hunters, referred to as \"Cowboys.\" The ragtag team aboard the spaceship Bebop are two such individuals. Mellow and carefree Spike Spiegel is balanced by his boisterous, pragmatic partner Jet Black as the pair makes a living chasing bounties and collecting rewards. Thrown off course by the addition of new members that they meet in their travels—Ein, a genetically engineered, highly intelligent Welsh Corgi; femme fatale Faye Valentine, an enigmatic trickster with memory loss; and the strange computer whiz kid Edward Wong—the crew embarks on thrilling adventures that unravel each member\\'s dark and mysterious past little by little. Well-balanced with high density action and light-hearted comedy, Cowboy Bebop is a space Western classic and an homage to the smooth and improvised music it is named after. Action Adventure Comedy Drama Sci-Fi Space'"
      ]
     },
     "execution_count": 29,
     "metadata": {},
     "output_type": "execute_result"
    }
   ],
   "source": [
    "ndf.iloc[0]['tags']"
   ]
  },
  {
   "cell_type": "code",
   "execution_count": 30,
   "id": "f7afa660",
   "metadata": {},
   "outputs": [
    {
     "name": "stderr",
     "output_type": "stream",
     "text": [
      "C:\\Users\\60169\\AppData\\Local\\Temp\\ipykernel_11368\\4131918263.py:2: SettingWithCopyWarning: \n",
      "A value is trying to be set on a copy of a slice from a DataFrame.\n",
      "Try using .loc[row_indexer,col_indexer] = value instead\n",
      "\n",
      "See the caveats in the documentation: https://pandas.pydata.org/pandas-docs/stable/user_guide/indexing.html#returning-a-view-versus-a-copy\n",
      "  ndf['tags'] = ndf['tags'].apply(lambda x:x.lower())\n"
     ]
    }
   ],
   "source": [
    "# Now  convert all to lowercase\n",
    "ndf['tags'] = ndf['tags'].apply(lambda x:x.lower())"
   ]
  },
  {
   "cell_type": "code",
   "execution_count": 31,
   "id": "3b5aa89a",
   "metadata": {},
   "outputs": [
    {
     "data": {
      "text/plain": [
       "0        in the year 2071, humanity has colonized sever...\n",
       "1        other day, another bounty—such is the life of ...\n",
       "2        vash the stampede is the man with a $$60,000,0...\n",
       "3        ches are individuals with special powers like ...\n",
       "4        it is the dark century and the people are suff...\n",
       "                               ...                        \n",
       "16089    no synopsis information has been added to this...\n",
       "16090    ko is a typical high school student whose life...\n",
       "16091    sequel to higurashi no naku koro ni gou . myst...\n",
       "16092    new yama no susume anime. adventure sliceoflif...\n",
       "16093    solar calendar year 2020: grotesque organisms ...\n",
       "Name: tags, Length: 16094, dtype: object"
      ]
     },
     "execution_count": 31,
     "metadata": {},
     "output_type": "execute_result"
    }
   ],
   "source": [
    "ndf['tags']"
   ]
  },
  {
   "cell_type": "code",
   "execution_count": 32,
   "id": "e0090a19",
   "metadata": {},
   "outputs": [
    {
     "data": {
      "text/plain": [
       "'in the year 2071, humanity has colonized several of the planets and moons of the solar system leaving the now uninhabitable surface of planet earth behind. the inter solar system police attempts to keep peace in the galaxy, aided in part by outlaw bounty hunters, referred to as \"cowboys.\" the ragtag team aboard the spaceship bebop are two such individuals. mellow and carefree spike spiegel is balanced by his boisterous, pragmatic partner jet black as the pair makes a living chasing bounties and collecting rewards. thrown off course by the addition of new members that they meet in their travels—ein, a genetically engineered, highly intelligent welsh corgi; femme fatale faye valentine, an enigmatic trickster with memory loss; and the strange computer whiz kid edward wong—the crew embarks on thrilling adventures that unravel each member\\'s dark and mysterious past little by little. well-balanced with high density action and light-hearted comedy, cowboy bebop is a space western classic and an homage to the smooth and improvised music it is named after. action adventure comedy drama sci-fi space'"
      ]
     },
     "execution_count": 32,
     "metadata": {},
     "output_type": "execute_result"
    }
   ],
   "source": [
    "ndf.iloc[0]['tags']"
   ]
  },
  {
   "cell_type": "code",
   "execution_count": 33,
   "id": "bf0caef1",
   "metadata": {},
   "outputs": [],
   "source": [
    "#Porter Stemmer\n",
    "#Part 07\n",
    "\n",
    "import nltk\n",
    "from nltk.stem import PorterStemmer"
   ]
  },
  {
   "cell_type": "code",
   "execution_count": 34,
   "id": "3ce57393",
   "metadata": {},
   "outputs": [],
   "source": [
    "ps = PorterStemmer()"
   ]
  },
  {
   "cell_type": "code",
   "execution_count": 35,
   "id": "89f0c37c",
   "metadata": {},
   "outputs": [],
   "source": [
    "def stems(text):\n",
    "    l = []\n",
    "    for i in text.split():\n",
    "        l.append(ps.stem(i))\n",
    "        \n",
    "    return \" \".join(l)"
   ]
  },
  {
   "cell_type": "code",
   "execution_count": 36,
   "id": "5ede79b3",
   "metadata": {},
   "outputs": [
    {
     "name": "stderr",
     "output_type": "stream",
     "text": [
      "C:\\Users\\60169\\AppData\\Local\\Temp\\ipykernel_11368\\2660278334.py:1: SettingWithCopyWarning: \n",
      "A value is trying to be set on a copy of a slice from a DataFrame.\n",
      "Try using .loc[row_indexer,col_indexer] = value instead\n",
      "\n",
      "See the caveats in the documentation: https://pandas.pydata.org/pandas-docs/stable/user_guide/indexing.html#returning-a-view-versus-a-copy\n",
      "  ndf['tags'] = ndf['tags'].apply(stems)\n"
     ]
    }
   ],
   "source": [
    "ndf['tags'] = ndf['tags'].apply(stems) "
   ]
  },
  {
   "cell_type": "code",
   "execution_count": 37,
   "id": "4c9f6c1e",
   "metadata": {},
   "outputs": [
    {
     "data": {
      "text/plain": [
       "'in the year 2071, human ha colon sever of the planet and moon of the solar system leav the now uninhabit surfac of planet earth behind. the inter solar system polic attempt to keep peac in the galaxy, aid in part by outlaw bounti hunters, refer to as \"cowboys.\" the ragtag team aboard the spaceship bebop are two such individuals. mellow and carefre spike spiegel is balanc by hi boisterous, pragmat partner jet black as the pair make a live chase bounti and collect rewards. thrown off cours by the addit of new member that they meet in their travels—ein, a genet engineered, highli intellig welsh corgi; femm fatal fay valentine, an enigmat trickster with memori loss; and the strang comput whiz kid edward wong—th crew embark on thrill adventur that unravel each member\\' dark and mysteri past littl by little. well-balanc with high densiti action and light-heart comedy, cowboy bebop is a space western classic and an homag to the smooth and improvis music it is name after. action adventur comedi drama sci-fi space'"
      ]
     },
     "execution_count": 37,
     "metadata": {},
     "output_type": "execute_result"
    }
   ],
   "source": [
    "ndf.iloc[0]['tags']"
   ]
  },
  {
   "cell_type": "code",
   "execution_count": 38,
   "id": "7382804c",
   "metadata": {},
   "outputs": [],
   "source": [
    "from sklearn.feature_extraction.text import CountVectorizer\n",
    "cv = CountVectorizer(max_features=10000000, stop_words='english')"
   ]
  },
  {
   "cell_type": "code",
   "execution_count": 39,
   "id": "67fa9a16",
   "metadata": {},
   "outputs": [],
   "source": [
    "vector = cv.fit_transform(ndf['tags']).toarray()"
   ]
  },
  {
   "cell_type": "code",
   "execution_count": 40,
   "id": "4239853e",
   "metadata": {},
   "outputs": [
    {
     "data": {
      "text/plain": [
       "array([[0, 0, 0, ..., 0, 0, 0],\n",
       "       [0, 0, 0, ..., 0, 0, 0],\n",
       "       [0, 3, 0, ..., 0, 0, 0],\n",
       "       ...,\n",
       "       [0, 0, 0, ..., 0, 0, 0],\n",
       "       [0, 0, 0, ..., 0, 0, 0],\n",
       "       [0, 0, 0, ..., 0, 0, 0]], dtype=int64)"
      ]
     },
     "execution_count": 40,
     "metadata": {},
     "output_type": "execute_result"
    }
   ],
   "source": [
    "vector"
   ]
  },
  {
   "cell_type": "code",
   "execution_count": 41,
   "id": "5181d51b",
   "metadata": {},
   "outputs": [],
   "source": [
    "#Use vectors to measure cosine similarity\n",
    "from sklearn.metrics.pairwise import cosine_similarity"
   ]
  },
  {
   "cell_type": "code",
   "execution_count": null,
   "id": "5e2f54e3",
   "metadata": {},
   "outputs": [],
   "source": [
    "similarity = cosine_similarity(vector)"
   ]
  },
  {
   "cell_type": "code",
   "execution_count": null,
   "id": "c59147bc",
   "metadata": {},
   "outputs": [],
   "source": [
    "similarity"
   ]
  },
  {
   "cell_type": "code",
   "execution_count": null,
   "id": "6e23469b",
   "metadata": {},
   "outputs": [],
   "source": [
    "def recommend(anime):\n",
    "    index = ndf[ndf['name'] == anime].index[0]\n",
    "    distances = sorted(list(enumerate(similarity[index])), reverse=True, key=lambda x: x[1])\n",
    "    for i in distances[1:6]:\n",
    "        anime_index = i[0]\n",
    "        anime_name = ndf.iloc[anime_index]['name']\n",
    "        print(f\"{anime_name}\")"
   ]
  },
  {
   "cell_type": "code",
   "execution_count": null,
   "id": "5deb6416",
   "metadata": {},
   "outputs": [],
   "source": [
    "ndf.name"
   ]
  },
  {
   "cell_type": "code",
   "execution_count": null,
   "id": "222a65cf",
   "metadata": {},
   "outputs": [],
   "source": [
    "#To test the recommendation system\n",
    "recommend('Fairy Tail')"
   ]
  },
  {
   "cell_type": "code",
   "execution_count": null,
   "id": "409c723e",
   "metadata": {},
   "outputs": [],
   "source": [
    "import pickle\n",
    "\n",
    "pickle.dump(ndf, open('Sat/anime_list.pkl','wb'))\n",
    "pickle.dump(similarity, open('Sat/similary.pkl','wb'))"
   ]
  },
  {
   "cell_type": "markdown",
   "id": "ed45978d",
   "metadata": {},
   "source": [
    "---------------------------------------------------------------------------"
   ]
  },
  {
   "cell_type": "markdown",
   "id": "7e6f53dc",
   "metadata": {},
   "source": [
    "---------------------------------------------------------------------------"
   ]
  },
  {
   "cell_type": "markdown",
   "id": "9573d627",
   "metadata": {},
   "source": [
    "---------------------------------------------------------------------------"
   ]
  },
  {
   "cell_type": "markdown",
   "id": "89c03868",
   "metadata": {},
   "source": [
    "# Collaborative Filtering "
   ]
  },
  {
   "cell_type": "markdown",
   "id": "119650be",
   "metadata": {},
   "source": [
    "## Item-item-based "
   ]
  },
  {
   "cell_type": "markdown",
   "id": "98511451",
   "metadata": {},
   "source": [
    "### Read the csv files "
   ]
  },
  {
   "cell_type": "code",
   "execution_count": null,
   "id": "9876d0d1",
   "metadata": {},
   "outputs": [],
   "source": [
    "#read csv files \n",
    "animeList = pd.read_csv('anime-filtered.csv')\n",
    "score = pd.read_csv('users-score-2023.csv') \n",
    "\n",
    "# select some data from score cause it is too big \n",
    "score = score.iloc[0:1000000, :]"
   ]
  },
  {
   "cell_type": "markdown",
   "id": "7fe7baa1",
   "metadata": {},
   "source": [
    "### Check the number of rows & columns"
   ]
  },
  {
   "cell_type": "code",
   "execution_count": null,
   "id": "7477715b",
   "metadata": {},
   "outputs": [],
   "source": [
    "# Number of rows & columns in (rows, column) of anime-filtered.csv \n",
    "animeList.shape "
   ]
  },
  {
   "cell_type": "code",
   "execution_count": null,
   "id": "6a919fd2",
   "metadata": {},
   "outputs": [],
   "source": [
    "# Number of rows & columns in (rows, column) of user-score-2023.csv \n",
    "score.shape "
   ]
  },
  {
   "cell_type": "markdown",
   "id": "baf19d61",
   "metadata": {},
   "source": [
    "### Check the info and dtypes of each datasets "
   ]
  },
  {
   "cell_type": "code",
   "execution_count": null,
   "id": "b7c1f6cc",
   "metadata": {},
   "outputs": [],
   "source": [
    "#Check the info of each data \n",
    "\n",
    "animeList.info() \n",
    "print('')\n",
    "score.info() "
   ]
  },
  {
   "cell_type": "markdown",
   "id": "a0949dd8",
   "metadata": {},
   "source": [
    "### View the top 5 and bottom 5 data "
   ]
  },
  {
   "cell_type": "code",
   "execution_count": null,
   "id": "b3b90b97",
   "metadata": {},
   "outputs": [],
   "source": [
    "#view the data \n",
    "animeList "
   ]
  },
  {
   "cell_type": "code",
   "execution_count": null,
   "id": "282b5bda",
   "metadata": {},
   "outputs": [],
   "source": [
    "animeList.nunique()"
   ]
  },
  {
   "cell_type": "code",
   "execution_count": null,
   "id": "3a23f927",
   "metadata": {
    "scrolled": true
   },
   "outputs": [],
   "source": [
    "#view the data \n",
    "score"
   ]
  },
  {
   "cell_type": "code",
   "execution_count": null,
   "id": "c8331943",
   "metadata": {},
   "outputs": [],
   "source": [
    "score.nunique()"
   ]
  },
  {
   "cell_type": "markdown",
   "id": "05cdd7c5",
   "metadata": {},
   "source": [
    "--------------------------------------------------------------------------"
   ]
  },
  {
   "cell_type": "markdown",
   "id": "e6433e21",
   "metadata": {},
   "source": [
    "### Merge the files "
   ]
  },
  {
   "cell_type": "code",
   "execution_count": null,
   "id": "6f55f2a0",
   "metadata": {},
   "outputs": [],
   "source": [
    "#merge the datasets \n",
    "\n",
    "animedata = pd.merge(score, animeList, how='inner', on='anime_id') \n",
    "animedata "
   ]
  },
  {
   "cell_type": "code",
   "execution_count": null,
   "id": "096a1eed",
   "metadata": {},
   "outputs": [],
   "source": [
    "#filter the data and left only the intended columns \n",
    "animedata = animedata[['user_id', 'anime_id', 'rating', 'Anime Title', ]] \n",
    "animedata "
   ]
  },
  {
   "cell_type": "code",
   "execution_count": null,
   "id": "c964f647",
   "metadata": {},
   "outputs": [],
   "source": [
    "animedata.shape"
   ]
  },
  {
   "cell_type": "code",
   "execution_count": null,
   "id": "59494181",
   "metadata": {},
   "outputs": [],
   "source": [
    "#check if there is duplication of data\n",
    "animedata.duplicated().sum()"
   ]
  },
  {
   "cell_type": "code",
   "execution_count": null,
   "id": "7999d35d",
   "metadata": {
    "scrolled": false
   },
   "outputs": [],
   "source": [
    "animedata.nunique() "
   ]
  },
  {
   "cell_type": "code",
   "execution_count": null,
   "id": "70af40d8",
   "metadata": {
    "scrolled": true
   },
   "outputs": [],
   "source": [
    "animedata.isna().sum()"
   ]
  },
  {
   "cell_type": "markdown",
   "id": "c521a505",
   "metadata": {},
   "source": [
    "### Checking data "
   ]
  },
  {
   "cell_type": "code",
   "execution_count": null,
   "id": "368c6250",
   "metadata": {},
   "outputs": [],
   "source": [
    "# Calculate count rating of all movies \n",
    "animedata.groupby('Anime Title')['rating'].count().sort_values(ascending=False).head() "
   ]
  },
  {
   "cell_type": "code",
   "execution_count": null,
   "id": "eec4611a",
   "metadata": {},
   "outputs": [],
   "source": [
    "#create a dataframe with 'name' + mean 'rating'\n",
    "ratings = pd.DataFrame(animedata.groupby('Anime Title')['rating'].mean())  \n",
    "\n",
    "#add another column called \"num of ratings\" that display total no of rating \n",
    "ratings['num of ratings'] = pd.DataFrame(animedata.groupby('Anime Title')['rating'].count()) \n",
    "  \n",
    "ratings"
   ]
  },
  {
   "cell_type": "code",
   "execution_count": null,
   "id": "453a8d55",
   "metadata": {},
   "outputs": [],
   "source": [
    "#Sort data based on no of rating descendingly \n",
    "ratings.sort_values('num of ratings', ascending = False).head(10) "
   ]
  },
  {
   "cell_type": "code",
   "execution_count": null,
   "id": "1100378a",
   "metadata": {
    "scrolled": true
   },
   "outputs": [],
   "source": [
    "#Set background to white \n",
    "sns.set_style('white') \n",
    "%matplotlib inline \n",
    " \n",
    "# plot graph of 'num of ratings column' \n",
    "plt.figure(figsize =(10, 4)) \n",
    "  \n",
    "ratings['num of ratings'].hist(bins = 60) "
   ]
  },
  {
   "cell_type": "code",
   "execution_count": null,
   "id": "df5e43f9",
   "metadata": {},
   "outputs": [],
   "source": [
    "# plot graph of 'ratings' column \n",
    "plt.figure(figsize =(10, 4)) \n",
    "  \n",
    "ratings['rating'].hist(bins = 60) "
   ]
  },
  {
   "cell_type": "markdown",
   "id": "c1c4c3b2",
   "metadata": {},
   "source": [
    "---------------------------------------------------------------------------"
   ]
  },
  {
   "cell_type": "code",
   "execution_count": null,
   "id": "afb60e92",
   "metadata": {
    "scrolled": true
   },
   "outputs": [],
   "source": [
    "#Convert the rating into 2D matrix \n",
    "#Column = name\n",
    "#Row = user id \n",
    "\n",
    "animeUser = animedata.pivot_table(index ='user_id', \n",
    "              columns ='Anime Title', values ='rating') \n",
    "\n",
    "animeUser\n",
    "\n",
    "#if want to read all rows and columns use: \n",
    "#pd.set_option('display.max_row', None) \n",
    "#pd.set_option('display.max_column', None) "
   ]
  },
  {
   "cell_type": "markdown",
   "id": "8d35f034",
   "metadata": {},
   "source": [
    "### User Interaction "
   ]
  },
  {
   "cell_type": "code",
   "execution_count": null,
   "id": "133b75a1",
   "metadata": {},
   "outputs": [],
   "source": [
    "# User input an anime \n",
    "animeInput = input(\"Enter an anime: \")\n",
    "\n",
    "# Alternative way is to make everything lowercase \n",
    "def capital_first_letter_of_each_word(animeInput):\n",
    "    return animeInput.title()\n",
    "\n",
    "animeSearch = capital_first_letter_of_each_word(animeInput)\n",
    "\n",
    "user_ratings = animeUser[animeSearch]\n",
    "#print(user_ratings)\n",
    "\n",
    "#-----------------------------------------------------------------------------------------------------------------\n",
    "# analysing correlation with similar movies \n",
    "similar_to_anime = animeUser.corrwith(user_ratings) \n",
    "\n",
    "corr_animeSearch = pd.DataFrame()\n",
    "corr_animeSearch = pd.DataFrame(similar_to_anime, columns =['Correlation']) \n",
    "corr_animeSearch.dropna(inplace = True) \n",
    "\n",
    "corr_animeSearch.head() \n",
    "\n",
    "#-----------------------------------------------------------------------------------------------------------------\n",
    "# Similar movies like the input anime  \n",
    "corr_animeSearch.sort_values('Correlation', ascending = False).head(10) \n",
    "corr_animeSearch = corr_animeSearch.join(ratings['num of ratings']) \n",
    "  \n",
    "corr_animeSearch.head() \n",
    "  \n",
    "corr_animeSearch[corr_animeSearch['num of ratings']>100].sort_values('Correlation', ascending = False).head() "
   ]
  },
  {
   "cell_type": "markdown",
   "id": "a28076d3",
   "metadata": {},
   "source": [
    "-------------------------------------------------------------"
   ]
  },
  {
   "cell_type": "markdown",
   "id": "81a75430",
   "metadata": {},
   "source": [
    "-------------------------------------------------------------"
   ]
  },
  {
   "cell_type": "markdown",
   "id": "36fb0db3",
   "metadata": {},
   "source": [
    "-------------------------------------------------------------"
   ]
  },
  {
   "cell_type": "markdown",
   "id": "2871d0e8",
   "metadata": {},
   "source": [
    "## Matrix Factorization"
   ]
  },
  {
   "cell_type": "code",
   "execution_count": null,
   "id": "40949f39",
   "metadata": {},
   "outputs": [],
   "source": [
    "from sklearn import model_selection, metrics, preprocessing \n",
    "import torch \n",
    "import torch.nn as nn\n",
    "from torch.utils.data import Dataset, DataLoader "
   ]
  },
  {
   "cell_type": "code",
   "execution_count": null,
   "id": "1f3ac651",
   "metadata": {},
   "outputs": [],
   "source": [
    "device = torch.device('cuda' if torch.cuda.is_available() else 'cpu') "
   ]
  },
  {
   "cell_type": "code",
   "execution_count": null,
   "id": "a1ff2ae1",
   "metadata": {
    "scrolled": true
   },
   "outputs": [],
   "source": [
    "animedataTraining = pd.merge(score, animeList, how='inner', on='anime_id') \n",
    "animedataTraining "
   ]
  },
  {
   "cell_type": "code",
   "execution_count": null,
   "id": "26923643",
   "metadata": {},
   "outputs": [],
   "source": [
    "#filter the data and left only the intended columns \n",
    "animedataTraining = animedataTraining[['user_id', 'anime_id', 'rating', 'Anime Title', ]] \n",
    "animedataTraining "
   ]
  },
  {
   "cell_type": "markdown",
   "id": "72c48841",
   "metadata": {},
   "source": [
    "--------------------------------------------------------"
   ]
  },
  {
   "cell_type": "markdown",
   "id": "6792eff3",
   "metadata": {},
   "source": [
    "### Training Dataset Class Wrapper"
   ]
  },
  {
   "cell_type": "code",
   "execution_count": null,
   "id": "19b7734b",
   "metadata": {},
   "outputs": [],
   "source": [
    "#to use torch pytorch dataLoader to do batch training \n",
    "\n",
    "class AnimeDataset: \n",
    "    #constructor \n",
    "    def __init__(self, users, animes, ratings): \n",
    "        self.users = users \n",
    "        self.animes = animes \n",
    "        self.ratings = ratings \n",
    "        \n",
    "    #to show length of users \n",
    "    def __len__(self): \n",
    "        return len(self.users) \n",
    "    \n",
    "   #to get a single data at position 'item' \n",
    "    def __getitem__(self, item): \n",
    "        users = self.users[item]\n",
    "        animes = self.animes[item] \n",
    "        ratings = self.ratings[item] \n",
    "        \n",
    "        return {\n",
    "            \"users\": torch.tensor(users, dtype=torch.long), \n",
    "            \"animes\": torch.tensor(animes, dtype=torch.long),\n",
    "            \"ratings\": torch.tensor(ratings, dtype=torch.long)\n",
    "        }"
   ]
  },
  {
   "cell_type": "markdown",
   "id": "f75c1aff",
   "metadata": {},
   "source": [
    "### Create the model "
   ]
  },
  {
   "cell_type": "code",
   "execution_count": null,
   "id": "2d488299",
   "metadata": {},
   "outputs": [],
   "source": [
    "class RecSysModel(nn.Module): \n",
    "    def __init__(self, n_users, n_animes): \n",
    "        #call constructor from superclass \n",
    "        super().__init__() \n",
    "        \n",
    "        self.user_embed = nn.Embedding(n_users, 32) \n",
    "        self.anime_embed = nn.Embedding(n_animes, 32) \n",
    "        \n",
    "        self.out = nn.Linear(64, 1) \n",
    "        \n",
    "    def forward(self, users, animes, ratings=None): \n",
    "        user_embeds = self.user_embed(users) \n",
    "        anime_embeds = self.anime_embed(animes) \n",
    "        output = torch.cat([user_embeds, anime_embeds], dim=1)\n",
    "        \n",
    "        output = self.out(output) \n",
    "        \n",
    "        # Apply sigmoid to constrain the predicted ratings between 0 and 10\n",
    "        predicted_ratings = 10.0 * torch.sigmoid(output)\n",
    "        \n",
    "        return output "
   ]
  },
  {
   "cell_type": "code",
   "execution_count": null,
   "id": "bf32097a",
   "metadata": {
    "scrolled": true
   },
   "outputs": [],
   "source": [
    "#To eliminate the skip in the id\n",
    "lbl_user = preprocessing.LabelEncoder() \n",
    "lbl_anime = preprocessing.LabelEncoder() \n",
    "animedataTraining['user_id'] = lbl_user.fit_transform(animedataTraining['user_id'].values)\n",
    "animedataTraining['anime_id'] = lbl_anime.fit_transform(animedataTraining['anime_id'].values)\n",
    "\n",
    "#To train and valid the model using train-test split where we split\n",
    "#the data into testing and validation sets \n",
    "animedataTraining_train, animedataTraining_valid = model_selection.train_test_split(\n",
    "    #10% for validation, 90% for training \n",
    "    animedataTraining, test_size=0.1, random_state=42, stratify=animedataTraining.rating.values\n",
    ")\n",
    "\n",
    "train_dataset = AnimeDataset(\n",
    "    users = animedataTraining_train.user_id.values,\n",
    "    animes = animedataTraining_train.anime_id.values,\n",
    "    ratings = animedataTraining_train.rating.values\n",
    ")\n",
    "\n",
    "valid_dataset = AnimeDataset(\n",
    "    users = animedataTraining_valid.user_id.values,\n",
    "    animes = animedataTraining_valid.anime_id.values,\n",
    "    ratings = animedataTraining_valid.rating.values\n",
    ") "
   ]
  },
  {
   "cell_type": "code",
   "execution_count": null,
   "id": "6657259c",
   "metadata": {},
   "outputs": [],
   "source": [
    "train_loader = DataLoader(dataset=train_dataset, \n",
    "                          batch_size=4, \n",
    "                          shuffle=True, \n",
    "                          num_workers=0, \n",
    "                          pin_memory=True, \n",
    "                          drop_last=True)\n",
    "\n",
    "validation_loader = DataLoader(dataset=valid_dataset,\n",
    "                          batch_size=4,\n",
    "                          shuffle=True,\n",
    "                          num_workers=0) \n",
    "\n",
    "dataiter = iter(train_loader)\n",
    "dataloader_data = dataiter.next() \n",
    "print(dataloader_data) "
   ]
  },
  {
   "cell_type": "code",
   "execution_count": null,
   "id": "dfbca24c",
   "metadata": {},
   "outputs": [],
   "source": [
    "model = RecSysModel(\n",
    "    n_users = len(lbl_user.classes_),\n",
    "    n_animes = len(lbl_anime.classes_),\n",
    ").to(device)\n",
    "\n",
    "#model.parameters() provides all the model's trainable parameters \n",
    "optimizer = torch.optim.Adam(model.parameters())  \n",
    "#learning rate will be reduced by a factor of 0.7 every 3 epochs\n",
    "sch = torch.optim.lr_scheduler.StepLR(optimizer, step_size=3, gamma=0.7)\n",
    "\n",
    "#defining the loss function to be Mean Squared Error (MSE) loss\n",
    "#used to measure the difference between model's prediction and actual \n",
    "loss_func = nn.MSELoss()"
   ]
  },
  {
   "cell_type": "code",
   "execution_count": null,
   "id": "ba1e8f3a",
   "metadata": {},
   "outputs": [],
   "source": [
    "print(len(lbl_user.classes_))\n",
    "print(len(lbl_anime.classes_))\n",
    "print(animedataTraining.anime_id.max())\n",
    "print(len(train_dataset))"
   ]
  },
  {
   "cell_type": "markdown",
   "id": "e260fb15",
   "metadata": {},
   "source": [
    "-----------------------------------------------------------------"
   ]
  },
  {
   "cell_type": "markdown",
   "id": "d590c081",
   "metadata": {},
   "source": [
    "### Manually run a forward path "
   ]
  },
  {
   "cell_type": "code",
   "execution_count": null,
   "id": "d577c1ae",
   "metadata": {},
   "outputs": [],
   "source": [
    "print(dataloader_data['users'])\n",
    "\n",
    "print(dataloader_data['users'].size())\n",
    "print(dataloader_data['animes'] )\n",
    "print(dataloader_data['animes'].size())\n",
    "\n",
    "#creates embedding layers for users and animes (random values)\n",
    "user_embed = nn.Embedding(len(lbl_user.classes_), 32)\n",
    "anime_embed = nn.Embedding(len(lbl_anime.classes_), 32)\n",
    "\n",
    "out = nn.Linear(64, 1)"
   ]
  },
  {
   "cell_type": "code",
   "execution_count": null,
   "id": "5d93130c",
   "metadata": {
    "scrolled": true
   },
   "outputs": [],
   "source": [
    "#Gain the corresponding embedding vector \n",
    "user_embeds = user_embed(dataloader_data['users'])\n",
    "anime_embeds = anime_embed(dataloader_data['animes'])\n",
    "print(f\"user_embeds {user_embeds.size()}\")\n",
    "print(f\"user_embeds {user_embeds}\")\n",
    "print(f\"anime_embeds {anime_embeds.size()}\")\n",
    "print(f\"anime_embeds {anime_embeds}\")"
   ]
  },
  {
   "cell_type": "code",
   "execution_count": null,
   "id": "e26738fc",
   "metadata": {
    "scrolled": true
   },
   "outputs": [],
   "source": [
    "#concatenates the user and anime embeddings to dimensions 1\n",
    "output = torch.cat([user_embeds, anime_embeds], dim=1) \n",
    "print(f\"output: {output.size()}\")\n",
    "print(f\"output: {output}\")\n",
    "#process the 64-dimensions embeddings to 1 dimensions\n",
    "output = out(output)\n",
    "print(f\"output: {output}\")"
   ]
  },
  {
   "cell_type": "code",
   "execution_count": null,
   "id": "eff37a62",
   "metadata": {
    "scrolled": true
   },
   "outputs": [],
   "source": [
    "#model inference\n",
    "#gradient computation is disabled \n",
    "with torch.no_grad():\n",
    "    #to get the predicted ratings, when using model(...), it internally call\n",
    "    #forward method of the model class (convention in PyTorch)\n",
    "    model_output = model(dataloader_data['users'], \n",
    "                   dataloader_data[\"animes\"])\n",
    "\n",
    "    print(f\"model_output: {model_output}, size: {model_output.size()}\")"
   ]
  },
  {
   "cell_type": "code",
   "execution_count": null,
   "id": "4ade1297",
   "metadata": {},
   "outputs": [],
   "source": [
    "rating = dataloader_data[\"ratings\"]\n",
    "print(rating)\n",
    "print(rating.view(4, -1))\n",
    "print(model_output)\n",
    "\n",
    "print(rating.sum())\n",
    "\n",
    "print(model_output.sum() - rating.sum())"
   ]
  },
  {
   "cell_type": "markdown",
   "id": "bf8936bc",
   "metadata": {},
   "source": [
    "-------------------------------------------------------------"
   ]
  },
  {
   "cell_type": "markdown",
   "id": "e64ec3f3",
   "metadata": {},
   "source": [
    "### Run the training loop "
   ]
  },
  {
   "cell_type": "code",
   "execution_count": null,
   "id": "936733e8",
   "metadata": {
    "scrolled": true
   },
   "outputs": [],
   "source": [
    "#how many times the model will iterate \n",
    "epochs = 1\n",
    "#used to keep track of cumulative loss\n",
    "total_loss = 0\n",
    "#print average loss every 5000 steps \n",
    "plot_steps, print_steps = 5000, 5000\n",
    "#to keep track of no of steps\n",
    "step_cnt = 0\n",
    "#to store average loss \n",
    "all_losses_list = [] \n",
    "\n",
    "#sets the model in training mode \n",
    "model.train() \n",
    "for epoch_i in range(epochs):\n",
    "    #use enumerate to keep track of batch number \n",
    "    for i, train_data in enumerate(train_loader):\n",
    "        output = model(train_data[\"users\"], \n",
    "                       train_data[\"animes\"]\n",
    "                      ) \n",
    "        \n",
    "        # .view(4, -1) is to reshape the rating to match the shape of model output which is 4x1\n",
    "        rating = train_data[\"ratings\"].view(4, -1).to(torch.float32)\n",
    "\n",
    "        #calculate the MSE loss between predicted and actual ratings \n",
    "        loss = loss_func(output, rating) \n",
    "        #accumulates the loss for all batches in this epoch \n",
    "        total_loss = total_loss + loss.sum().item()\n",
    "        #resets the gradient of the model parameters \n",
    "        optimizer.zero_grad()\n",
    "        #computes gradients for the loss with respect to the model's parameter \n",
    "        loss.backward() \n",
    "        #update the model parameters with computed gradient \n",
    "        optimizer.step()\n",
    "\n",
    "        #increase step_cnt \n",
    "        step_cnt = step_cnt + len(train_data[\"users\"])\n",
    "        \n",
    "        \n",
    "        if(step_cnt % plot_steps == 0):\n",
    "            #average loss is calculated \n",
    "            avg_loss = total_loss/(len(train_data[\"users\"]) * plot_steps)\n",
    "            print(f\"epoch {epoch_i} loss at step: {step_cnt} is {avg_loss}\")\n",
    "            all_losses_list.append(avg_loss)\n",
    "            total_loss = 0 # reset total_loss"
   ]
  },
  {
   "cell_type": "code",
   "execution_count": null,
   "id": "015680f2",
   "metadata": {},
   "outputs": [],
   "source": [
    "plt.figure()\n",
    "plt.plot(all_losses_list)\n",
    "plt.show()  "
   ]
  },
  {
   "cell_type": "markdown",
   "id": "3ecbef5e",
   "metadata": {},
   "source": [
    "--------------------------------------------------------"
   ]
  },
  {
   "cell_type": "markdown",
   "id": "82dc2e45",
   "metadata": {},
   "source": [
    "RMSE assesses the prediction accuracy of your recommender system in terms of explicit ratings.\n",
    "\n",
    "Recall@k emphasizes capturing as many relevant items as possible within the top-k recommendations, even if some irrelevant ones are included.\n",
    "\n",
    "Precision@k emphasizes ensuring that recommended items in the top-k are highly relevant, even if it means missing some relevant items."
   ]
  },
  {
   "cell_type": "markdown",
   "id": "4b8e8ca6",
   "metadata": {},
   "source": [
    "### Evaluation with RMSE "
   ]
  },
  {
   "cell_type": "code",
   "execution_count": null,
   "id": "484f9025",
   "metadata": {
    "scrolled": true
   },
   "outputs": [],
   "source": [
    "from IPython.display import Image\n",
    "\n",
    "image_RMSE = 'RMS.image.png'\n",
    "\n",
    "# Display the image\n",
    "Image(filename=image_RMSE)"
   ]
  },
  {
   "cell_type": "code",
   "execution_count": null,
   "id": "d7b90953",
   "metadata": {
    "scrolled": true
   },
   "outputs": [],
   "source": [
    "from sklearn.metrics import mean_squared_error\n",
    "\n",
    "#store predicted value \n",
    "model_output_list = []\n",
    "#store actual value \n",
    "target_rating_list = []\n",
    "\n",
    "#to ensure no gradient are computed --> save memory \n",
    "model.eval()\n",
    "\n",
    "with torch.no_grad():\n",
    "    for i, batched_data in enumerate(validation_loader): \n",
    "        model_output = model(batched_data['users'], \n",
    "                       batched_data[\"animes\"])\n",
    "        \n",
    "        #calculates the sum redicted value in a batch and convert to python float \n",
    "        model_output_list.append(model_output.sum().item() / len(batched_data['users']) )\n",
    "\n",
    "        target_rating = batched_data[\"ratings\"]\n",
    "        \n",
    "        target_rating_list.append(target_rating.sum().item() / len(batched_data['users']))\n",
    "\n",
    "        print(f\"model_output: {model_output}, target_rating: {target_rating}\")\n",
    "\n",
    "\n",
    "# squared If True returns MSE value, if False returns RMSE value.\n",
    "# RMSE is a measure of model's accuracy in predicting ratings. \n",
    "rms = mean_squared_error(target_rating_list, model_output_list, squared=False)\n",
    "print(f\"rms: {rms}\")"
   ]
  },
  {
   "cell_type": "markdown",
   "id": "14845d91",
   "metadata": {},
   "source": [
    "------------------------------------------------------------------"
   ]
  },
  {
   "cell_type": "markdown",
   "id": "c18405e5",
   "metadata": {},
   "source": [
    "### Evaluation with Recall@K "
   ]
  },
  {
   "cell_type": "code",
   "execution_count": null,
   "id": "24890b4e",
   "metadata": {},
   "outputs": [],
   "source": [
    "image_recall_k = 'Recall@k.png'\n",
    "\n",
    "# Display the image\n",
    "Image(filename=image_recall_k)"
   ]
  },
  {
   "cell_type": "code",
   "execution_count": null,
   "id": "861de8c8",
   "metadata": {
    "scrolled": true
   },
   "outputs": [],
   "source": [
    "from collections import defaultdict\n",
    "\n",
    "# a dict that stores a list of predicted rating and actual rating pair for each user \n",
    "user_est_true = defaultdict(list)\n",
    "\n",
    "# iterate through the validation data to build the user-> [(y1, y1_hat), (y2, y2_hat)...]   \n",
    "with torch.no_grad():\n",
    "    for i, batched_data in enumerate(validation_loader): \n",
    "        users = batched_data['users']\n",
    "        animes = batched_data['animes']\n",
    "        ratings = batched_data['ratings']\n",
    "        \n",
    "        model_output = model(batched_data['users'], batched_data[\"animes\"])\n",
    "\n",
    "        for i in range(len(users)):\n",
    "            user_id = users[i].item()\n",
    "            anime_id = animes[i].item() \n",
    "            pred_rating = model_output[i][0].item()\n",
    "            true_rating = ratings[i].item()\n",
    "            \n",
    "            print(f\"{user_id}, {anime_id}, {pred_rating}, {true_rating}\")\n",
    "            user_est_true[user_id].append((pred_rating, true_rating))"
   ]
  },
  {
   "cell_type": "markdown",
   "id": "113d5029",
   "metadata": {},
   "source": [
    "-----------------------------------------------------------------"
   ]
  },
  {
   "cell_type": "markdown",
   "id": "f40d7769",
   "metadata": {},
   "source": [
    "### Evaluation with Precision@K"
   ]
  },
  {
   "cell_type": "code",
   "execution_count": null,
   "id": "2c81755a",
   "metadata": {},
   "outputs": [],
   "source": [
    "image_precision_k = 'Precision@k.png'\n",
    "\n",
    "# Display the image\n",
    "Image(filename=image_precision_k)"
   ]
  },
  {
   "cell_type": "code",
   "execution_count": null,
   "id": "1bfe511c",
   "metadata": {},
   "outputs": [],
   "source": [
    "with torch.no_grad():\n",
    "    precisions = dict()\n",
    "    recalls = dict()\n",
    "\n",
    "    #top recommendations \n",
    "    k=1000 \n",
    "    #minimum rating \n",
    "    threshold=3.5\n",
    "\n",
    "    for uid, user_ratings in user_est_true.items():\n",
    "\n",
    "        # Sort user ratings by estimated value. \n",
    "        user_ratings.sort(key=lambda x: x[0], reverse=True)\n",
    "\n",
    "        # here get the number of actual relevant item\n",
    "        n_rel = sum((true_r >= threshold) for (_, true_r) in user_ratings)\n",
    "\n",
    "        # here get the number of recommended item that are predicted relevent and within topk\n",
    "        n_rec_k = sum((est >= threshold) for (est, _) in user_ratings[:k])\n",
    "\n",
    "        # here get the number of recommented item that' is also actually relevant within topk\n",
    "        n_rel_and_rec_k = sum(\n",
    "            ((true_r >= threshold) and (est >= threshold))\n",
    "            for (est, true_r) in user_ratings[:k]\n",
    "        )\n",
    "\n",
    "        print(f\"uid {uid},  n_rel {n_rel}, n_rec_k {n_rec_k}, n_rel_and_rec_k {n_rel_and_rec_k}\")\n",
    "\n",
    "        # Precision@K: Proportion of recommended items that are relevant\n",
    "        # When n_rec_k is 0, Precision is undefined. We here set it to 0.\n",
    "\n",
    "        precisions[uid] = n_rel_and_rec_k / n_rec_k if n_rec_k != 0 else 0\n",
    "\n",
    "        # Recall@K: Proportion of relevant items that are recommended\n",
    "        # When n_rel is 0, Recall is undefined. We here set it to 0.\n",
    "\n",
    "        recalls[uid] = n_rel_and_rec_k / n_rel if n_rel != 0 else 0"
   ]
  },
  {
   "cell_type": "code",
   "execution_count": null,
   "id": "54188adb",
   "metadata": {},
   "outputs": [],
   "source": [
    "# Precision and recall can then be averaged over all users\n",
    "#summing up the precisions values of all users and dividing by the total number of users \n",
    "print(f\"precision @ {k}: {sum(prec for prec in precisions.values()) / len(precisions)}\")\n",
    "\n",
    "#summing up the recall values for all users and dividing by the total number of users\n",
    "print(f\"recall @ {k} : {sum(rec for rec in recalls.values()) / len(recalls)}\")\n"
   ]
  },
  {
   "cell_type": "markdown",
   "id": "cd8ea1b5",
   "metadata": {},
   "source": [
    "-----------------------------------------------------------------------------"
   ]
  },
  {
   "cell_type": "markdown",
   "id": "66753832",
   "metadata": {},
   "source": [
    "### Recommending "
   ]
  },
  {
   "cell_type": "code",
   "execution_count": null,
   "id": "34996c9a",
   "metadata": {
    "scrolled": false
   },
   "outputs": [],
   "source": [
    "# Print the top N recommended items (e.g., top 10)\n",
    "# Choose a user for whom you want to make recommendations\n",
    "user_id_to_recommend_for = int(input(\"Enter an user id: \"))  # Replace with the user ID you want to recommend for\n",
    "\n",
    "# Get the embeddings for the chosen user from your model\n",
    "user_embeddings = model.user_embed(torch.LongTensor([user_id_to_recommend_for]).to(device))\n",
    "\n",
    "# Calculate predicted ratings for all anime items\n",
    "item_embeddings = model.anime_embed.weight\n",
    "predicted_ratings = torch.matmul(user_embeddings, item_embeddings.t())\n",
    "\n",
    "# Convert predicted ratings to a NumPy array for easier manipulation\n",
    "predicted_ratings = predicted_ratings.cpu().detach().numpy()\n",
    "\n",
    "# Get the user's interactions from the training data (items they have already interacted with)\n",
    "user_interactions = animedataTraining_train[animedataTraining_train['user_id'] == user_id_to_recommend_for]['anime_id'].values\n",
    "\n",
    "# Find items that the user hasn't interacted with yet (where user_interactions is not in user's training interactions)\n",
    "items_to_recommend = np.setdiff1d(animedataTraining['anime_id'].unique(), user_interactions)\n",
    "\n",
    "# Sort items by predicted ratings in descending order\n",
    "recommended_items = items_to_recommend[np.argsort(predicted_ratings[0, items_to_recommend])[::-1]]\n",
    "\n",
    "# Print the top N recommended items (e.g., top 10) with anime names and additional data\n",
    "top_N = 10\n",
    "print(f\"Top {top_N} recommended items for user {user_id_to_recommend_for}:\")\n",
    "for item_id in recommended_items[:top_N]:\n",
    "    # Retrieve the row from your DataFrame associated with the item_id\n",
    "    anime_data = animedataTraining[animedataTraining['anime_id'] == item_id].iloc[0]\n",
    "    \n",
    "    anime_name = anime_data['Anime Title']  # Replace 'anime_name' with the actual column name in your DataFrame\n",
    "    predicted_rating = predicted_ratings[0, item_id]\n",
    "    \n",
    "    print(f\"Anime id: {item_id}, Anime name: {anime_name}\")"
   ]
  },
  {
   "cell_type": "markdown",
   "id": "6a869e25",
   "metadata": {},
   "source": [
    "----------------------------------------------------------------"
   ]
  }
 ],
 "metadata": {
  "kernelspec": {
   "display_name": "Python 3 (ipykernel)",
   "language": "python",
   "name": "python3"
  },
  "language_info": {
   "codemirror_mode": {
    "name": "ipython",
    "version": 3
   },
   "file_extension": ".py",
   "mimetype": "text/x-python",
   "name": "python",
   "nbconvert_exporter": "python",
   "pygments_lexer": "ipython3",
   "version": "3.10.13"
  }
 },
 "nbformat": 4,
 "nbformat_minor": 5
}
